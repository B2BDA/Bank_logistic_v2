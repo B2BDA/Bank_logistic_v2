{
 "cells": [
  {
   "cell_type": "code",
   "execution_count": 71,
   "metadata": {},
   "outputs": [],
   "source": [
    "import pandas as pd\n",
    "import numpy as np\n",
    "import matplotlib.pyplot as plt\n",
    "import seaborn as sns\n",
    "from sklearn.model_selection import train_test_split, cross_val_score\n",
    "from sklearn.linear_model import LogisticRegression\n",
    "from sklearn.preprocessing import StandardScaler\n",
    "from sklearn.feature_selection import RFECV\n",
    "import statsmodels.api as sm\n",
    "import warnings\n",
    "warnings.filterwarnings('ignore')\n",
    "from statsmodels.stats.outliers_influence import variance_inflation_factor\n",
    "np.random.seed(1429)\n",
    "from sklearn.utils import resample\n",
    "import seaborn as sns\n",
    "plt.rcParams['figure.figsize']=10,6\n",
    "from scipy.stats import norm\n",
    "from sklearn.metrics import classification_report, roc_auc_score, roc_curve, confusion_matrix\n",
    "from imblearn.over_sampling import SMOTE"
   ]
  },
  {
   "cell_type": "code",
   "execution_count": 2,
   "metadata": {},
   "outputs": [],
   "source": [
    "df=pd.read_csv(\"Banking.csv\")"
   ]
  },
  {
   "cell_type": "code",
   "execution_count": 3,
   "metadata": {},
   "outputs": [
    {
     "data": {
      "text/html": [
       "<div>\n",
       "<style scoped>\n",
       "    .dataframe tbody tr th:only-of-type {\n",
       "        vertical-align: middle;\n",
       "    }\n",
       "\n",
       "    .dataframe tbody tr th {\n",
       "        vertical-align: top;\n",
       "    }\n",
       "\n",
       "    .dataframe thead th {\n",
       "        text-align: right;\n",
       "    }\n",
       "</style>\n",
       "<table border=\"1\" class=\"dataframe\">\n",
       "  <thead>\n",
       "    <tr style=\"text-align: right;\">\n",
       "      <th></th>\n",
       "      <th>age</th>\n",
       "      <th>job</th>\n",
       "      <th>marital</th>\n",
       "      <th>education</th>\n",
       "      <th>default</th>\n",
       "      <th>housing</th>\n",
       "      <th>loan</th>\n",
       "      <th>contact</th>\n",
       "      <th>month</th>\n",
       "      <th>day_of_week</th>\n",
       "      <th>...</th>\n",
       "      <th>campaign</th>\n",
       "      <th>pdays</th>\n",
       "      <th>previous</th>\n",
       "      <th>poutcome</th>\n",
       "      <th>emp_var_rate</th>\n",
       "      <th>cons_price_idx</th>\n",
       "      <th>cons_conf_idx</th>\n",
       "      <th>euribor3m</th>\n",
       "      <th>nr_employed</th>\n",
       "      <th>y</th>\n",
       "    </tr>\n",
       "  </thead>\n",
       "  <tbody>\n",
       "    <tr>\n",
       "      <td>0</td>\n",
       "      <td>44</td>\n",
       "      <td>blue-collar</td>\n",
       "      <td>married</td>\n",
       "      <td>basic.4y</td>\n",
       "      <td>unknown</td>\n",
       "      <td>yes</td>\n",
       "      <td>no</td>\n",
       "      <td>cellular</td>\n",
       "      <td>aug</td>\n",
       "      <td>thu</td>\n",
       "      <td>...</td>\n",
       "      <td>1</td>\n",
       "      <td>999</td>\n",
       "      <td>0</td>\n",
       "      <td>nonexistent</td>\n",
       "      <td>1.4</td>\n",
       "      <td>93.444</td>\n",
       "      <td>-36.1</td>\n",
       "      <td>4.963</td>\n",
       "      <td>5228.1</td>\n",
       "      <td>0</td>\n",
       "    </tr>\n",
       "    <tr>\n",
       "      <td>1</td>\n",
       "      <td>53</td>\n",
       "      <td>technician</td>\n",
       "      <td>married</td>\n",
       "      <td>unknown</td>\n",
       "      <td>no</td>\n",
       "      <td>no</td>\n",
       "      <td>no</td>\n",
       "      <td>cellular</td>\n",
       "      <td>nov</td>\n",
       "      <td>fri</td>\n",
       "      <td>...</td>\n",
       "      <td>1</td>\n",
       "      <td>999</td>\n",
       "      <td>0</td>\n",
       "      <td>nonexistent</td>\n",
       "      <td>-0.1</td>\n",
       "      <td>93.200</td>\n",
       "      <td>-42.0</td>\n",
       "      <td>4.021</td>\n",
       "      <td>5195.8</td>\n",
       "      <td>0</td>\n",
       "    </tr>\n",
       "    <tr>\n",
       "      <td>2</td>\n",
       "      <td>28</td>\n",
       "      <td>management</td>\n",
       "      <td>single</td>\n",
       "      <td>university.degree</td>\n",
       "      <td>no</td>\n",
       "      <td>yes</td>\n",
       "      <td>no</td>\n",
       "      <td>cellular</td>\n",
       "      <td>jun</td>\n",
       "      <td>thu</td>\n",
       "      <td>...</td>\n",
       "      <td>3</td>\n",
       "      <td>6</td>\n",
       "      <td>2</td>\n",
       "      <td>success</td>\n",
       "      <td>-1.7</td>\n",
       "      <td>94.055</td>\n",
       "      <td>-39.8</td>\n",
       "      <td>0.729</td>\n",
       "      <td>4991.6</td>\n",
       "      <td>1</td>\n",
       "    </tr>\n",
       "    <tr>\n",
       "      <td>3</td>\n",
       "      <td>39</td>\n",
       "      <td>services</td>\n",
       "      <td>married</td>\n",
       "      <td>high.school</td>\n",
       "      <td>no</td>\n",
       "      <td>no</td>\n",
       "      <td>no</td>\n",
       "      <td>cellular</td>\n",
       "      <td>apr</td>\n",
       "      <td>fri</td>\n",
       "      <td>...</td>\n",
       "      <td>2</td>\n",
       "      <td>999</td>\n",
       "      <td>0</td>\n",
       "      <td>nonexistent</td>\n",
       "      <td>-1.8</td>\n",
       "      <td>93.075</td>\n",
       "      <td>-47.1</td>\n",
       "      <td>1.405</td>\n",
       "      <td>5099.1</td>\n",
       "      <td>0</td>\n",
       "    </tr>\n",
       "    <tr>\n",
       "      <td>4</td>\n",
       "      <td>55</td>\n",
       "      <td>retired</td>\n",
       "      <td>married</td>\n",
       "      <td>basic.4y</td>\n",
       "      <td>no</td>\n",
       "      <td>yes</td>\n",
       "      <td>no</td>\n",
       "      <td>cellular</td>\n",
       "      <td>aug</td>\n",
       "      <td>fri</td>\n",
       "      <td>...</td>\n",
       "      <td>1</td>\n",
       "      <td>3</td>\n",
       "      <td>1</td>\n",
       "      <td>success</td>\n",
       "      <td>-2.9</td>\n",
       "      <td>92.201</td>\n",
       "      <td>-31.4</td>\n",
       "      <td>0.869</td>\n",
       "      <td>5076.2</td>\n",
       "      <td>1</td>\n",
       "    </tr>\n",
       "  </tbody>\n",
       "</table>\n",
       "<p>5 rows × 21 columns</p>\n",
       "</div>"
      ],
      "text/plain": [
       "   age          job  marital          education  default housing loan  \\\n",
       "0   44  blue-collar  married           basic.4y  unknown     yes   no   \n",
       "1   53   technician  married            unknown       no      no   no   \n",
       "2   28   management   single  university.degree       no     yes   no   \n",
       "3   39     services  married        high.school       no      no   no   \n",
       "4   55      retired  married           basic.4y       no     yes   no   \n",
       "\n",
       "    contact month day_of_week  ...  campaign  pdays  previous     poutcome  \\\n",
       "0  cellular   aug         thu  ...         1    999         0  nonexistent   \n",
       "1  cellular   nov         fri  ...         1    999         0  nonexistent   \n",
       "2  cellular   jun         thu  ...         3      6         2      success   \n",
       "3  cellular   apr         fri  ...         2    999         0  nonexistent   \n",
       "4  cellular   aug         fri  ...         1      3         1      success   \n",
       "\n",
       "  emp_var_rate  cons_price_idx  cons_conf_idx  euribor3m  nr_employed  y  \n",
       "0          1.4          93.444          -36.1      4.963       5228.1  0  \n",
       "1         -0.1          93.200          -42.0      4.021       5195.8  0  \n",
       "2         -1.7          94.055          -39.8      0.729       4991.6  1  \n",
       "3         -1.8          93.075          -47.1      1.405       5099.1  0  \n",
       "4         -2.9          92.201          -31.4      0.869       5076.2  1  \n",
       "\n",
       "[5 rows x 21 columns]"
      ]
     },
     "execution_count": 3,
     "metadata": {},
     "output_type": "execute_result"
    }
   ],
   "source": [
    "df.head()"
   ]
  },
  {
   "cell_type": "code",
   "execution_count": 4,
   "metadata": {},
   "outputs": [],
   "source": [
    "df[\"Target\"]=df.y"
   ]
  },
  {
   "cell_type": "code",
   "execution_count": 5,
   "metadata": {},
   "outputs": [],
   "source": [
    "df=df.drop(\"y\", axis=1)"
   ]
  },
  {
   "cell_type": "code",
   "execution_count": 6,
   "metadata": {},
   "outputs": [
    {
     "data": {
      "text/plain": [
       "<matplotlib.axes._subplots.AxesSubplot at 0x24b29cd9f88>"
      ]
     },
     "execution_count": 6,
     "metadata": {},
     "output_type": "execute_result"
    },
    {
     "data": {
      "image/png": "[encoded data removed]",
      "text/plain": [
       "<Figure size 432x288 with 1 Axes>"
      ]
     },
     "metadata": {
      "needs_background": "light"
     },
     "output_type": "display_data"
    }
   ],
   "source": [
    "sns.countplot(x=df.Target)\n",
    "#class imabalance noted"
   ]
  },
  {
   "cell_type": "code",
   "execution_count": 7,
   "metadata": {},
   "outputs": [
    {
     "data": {
      "text/plain": [
       "(array([ 0,  1,  2,  3,  4,  5,  6,  7,  8,  9, 10, 11]),\n",
       " <a list of 12 Text xticklabel objects>)"
      ]
     },
     "execution_count": 7,
     "metadata": {},
     "output_type": "execute_result"
    },
    {
     "data": {
      "image/png": "[encoded data removed]",
      "text/plain": [
       "<Figure size 432x288 with 1 Axes>"
      ]
     },
     "metadata": {
      "needs_background": "light"
     },
     "output_type": "display_data"
    }
   ],
   "source": [
    "sns.countplot(x=df.job, hue=df.Target)\n",
    "plt.xticks(rotation=60)"
   ]
  },
  {
   "cell_type": "code",
   "execution_count": 8,
   "metadata": {},
   "outputs": [
    {
     "data": {
      "text/plain": [
       "(array([0, 1, 2, 3]), <a list of 4 Text xticklabel objects>)"
      ]
     },
     "execution_count": 8,
     "metadata": {},
     "output_type": "execute_result"
    },
    {
     "data": {
      "image/png": "[encoded data removed]",
      "text/plain": [
       "<Figure size 432x288 with 1 Axes>"
      ]
     },
     "metadata": {
      "needs_background": "light"
     },
     "output_type": "display_data"
    }
   ],
   "source": [
    "sns.countplot(x=df.marital, hue=df.Target)\n",
    "plt.xticks(rotation=60)"
   ]
  },
  {
   "cell_type": "code",
   "execution_count": 9,
   "metadata": {},
   "outputs": [
    {
     "data": {
      "text/plain": [
       "(array([0, 1, 2]), <a list of 3 Text xticklabel objects>)"
      ]
     },
     "execution_count": 9,
     "metadata": {},
     "output_type": "execute_result"
    },
    {
     "data": {
      "image/png": "[encoded data removed]",
      "text/plain": [
       "<Figure size 432x288 with 1 Axes>"
      ]
     },
     "metadata": {
      "needs_background": "light"
     },
     "output_type": "display_data"
    }
   ],
   "source": [
    "sns.countplot(x=df.default, hue=df.Target)\n",
    "plt.xticks(rotation=60)"
   ]
  },
  {
   "cell_type": "code",
   "execution_count": 10,
   "metadata": {},
   "outputs": [
    {
     "data": {
      "text/plain": [
       "(array([0, 1, 2]), <a list of 3 Text xticklabel objects>)"
      ]
     },
     "execution_count": 10,
     "metadata": {},
     "output_type": "execute_result"
    },
    {
     "data": {
      "image/png": "[encoded data removed]",
      "text/plain": [
       "<Figure size 432x288 with 1 Axes>"
      ]
     },
     "metadata": {
      "needs_background": "light"
     },
     "output_type": "display_data"
    }
   ],
   "source": [
    "sns.countplot(x=df.housing, hue=df.Target)\n",
    "plt.xticks(rotation=60)"
   ]
  },
  {
   "cell_type": "code",
   "execution_count": 11,
   "metadata": {},
   "outputs": [
    {
     "data": {
      "text/plain": [
       "(array([0, 1, 2]), <a list of 3 Text xticklabel objects>)"
      ]
     },
     "execution_count": 11,
     "metadata": {},
     "output_type": "execute_result"
    },
    {
     "data": {
      "image/png": "[encoded data removed]",
      "text/plain": [
       "<Figure size 432x288 with 1 Axes>"
      ]
     },
     "metadata": {
      "needs_background": "light"
     },
     "output_type": "display_data"
    }
   ],
   "source": [
    "sns.countplot(x=df.loan, hue=df.Target)\n",
    "plt.xticks(rotation=60)"
   ]
  },
  {
   "cell_type": "code",
   "execution_count": 12,
   "metadata": {},
   "outputs": [
    {
     "data": {
      "text/plain": [
       "(array([0, 1, 2]), <a list of 3 Text xticklabel objects>)"
      ]
     },
     "execution_count": 12,
     "metadata": {},
     "output_type": "execute_result"
    },
    {
     "data": {
      "image/png": "[encoded data removed]",
      "text/plain": [
       "<Figure size 432x288 with 1 Axes>"
      ]
     },
     "metadata": {
      "needs_background": "light"
     },
     "output_type": "display_data"
    }
   ],
   "source": [
    "sns.countplot(x=df.poutcome, hue=df.Target)\n",
    "plt.xticks(rotation=60)"
   ]
  },
  {
   "cell_type": "code",
   "execution_count": 13,
   "metadata": {},
   "outputs": [
    {
     "data": {
      "text/plain": [
       "(array([0, 1, 2, 3, 4]), <a list of 5 Text xticklabel objects>)"
      ]
     },
     "execution_count": 13,
     "metadata": {},
     "output_type": "execute_result"
    },
    {
     "data": {
      "image/png": "[encoded data removed]",
      "text/plain": [
       "<Figure size 432x288 with 1 Axes>"
      ]
     },
     "metadata": {
      "needs_background": "light"
     },
     "output_type": "display_data"
    }
   ],
   "source": [
    "sns.countplot(x=df.day_of_week, hue=df.Target)\n",
    "plt.xticks(rotation=60)"
   ]
  },
  {
   "cell_type": "code",
   "execution_count": 14,
   "metadata": {},
   "outputs": [
    {
     "data": {
      "text/plain": [
       "(array([ 0,  1,  2,  3,  4,  5,  6,  7,  8,  9, 10, 11, 12, 13, 14, 15, 16,\n",
       "        17, 18, 19, 20, 21, 22, 23, 24, 25, 26, 27, 28, 29, 30, 31, 32, 33,\n",
       "        34, 35, 36, 37, 38, 39, 40, 41]),\n",
       " <a list of 42 Text xticklabel objects>)"
      ]
     },
     "execution_count": 14,
     "metadata": {},
     "output_type": "execute_result"
    },
    {
     "data": {
      "image/png": "[encoded data removed]",
      "text/plain": [
       "<Figure size 432x288 with 1 Axes>"
      ]
     },
     "metadata": {
      "needs_background": "light"
     },
     "output_type": "display_data"
    }
   ],
   "source": [
    "sns.countplot(x=df.campaign, hue=df.Target)\n",
    "plt.xticks(rotation=60)"
   ]
  },
  {
   "cell_type": "code",
   "execution_count": 15,
   "metadata": {},
   "outputs": [
    {
     "data": {
      "text/plain": [
       "(array([0, 1, 2, 3, 4, 5, 6, 7, 8, 9]), <a list of 10 Text xticklabel objects>)"
      ]
     },
     "execution_count": 15,
     "metadata": {},
     "output_type": "execute_result"
    },
    {
     "data": {
      "image/png": "[encoded data removed]",
      "text/plain": [
       "<Figure size 432x288 with 1 Axes>"
      ]
     },
     "metadata": {
      "needs_background": "light"
     },
     "output_type": "display_data"
    }
   ],
   "source": [
    "sns.countplot(x=df.month, hue=df.Target)\n",
    "plt.xticks(rotation=60)"
   ]
  },
  {
   "cell_type": "code",
   "execution_count": 16,
   "metadata": {},
   "outputs": [
    {
     "data": {
      "text/plain": [
       "<matplotlib.axes._subplots.AxesSubplot at 0x24b2b708248>"
      ]
     },
     "execution_count": 16,
     "metadata": {},
     "output_type": "execute_result"
    },
    {
     "data": {
      "image/png": "[encoded data removed]",
      "text/plain": [
       "<Figure size 432x288 with 1 Axes>"
      ]
     },
     "metadata": {
      "needs_background": "light"
     },
     "output_type": "display_data"
    }
   ],
   "source": [
    "sns.distplot(df.age, fit=norm, bins=20,hist_kws={'edgecolor':'k', 'lw':2} )"
   ]
  },
  {
   "cell_type": "code",
   "execution_count": 17,
   "metadata": {},
   "outputs": [],
   "source": [
    "df.poutcome=df.poutcome.astype('category')\n",
    "df.month=df.month.astype('category')\n",
    "df.contact=df.contact.astype('category')\n",
    "df.previous=df.previous.astype('category')\n",
    "df.job=df.job.astype('category')\n",
    "df.default=df.default.astype('category')\n",
    "df.education=df.education.astype('category')\n",
    "df.marital=df.marital.astype('category')\n",
    "df.housing=df.housing.astype('category')\n",
    "df.loan=df.loan.astype('category')\n",
    "df.day_of_week=df.day_of_week.astype('category')"
   ]
  },
  {
   "cell_type": "code",
   "execution_count": 18,
   "metadata": {},
   "outputs": [],
   "source": [
    "dum=pd.get_dummies(df.loc[:,[\n",
    " 'poutcome',\n",
    " 'month',\n",
    " 'contact',\n",
    " 'job',\n",
    " 'default',\n",
    " 'education',\n",
    " 'marital',\"housing\",'loan',\"day_of_week\",\"previous\"]], drop_first=True)"
   ]
  },
  {
   "cell_type": "code",
   "execution_count": 19,
   "metadata": {},
   "outputs": [],
   "source": [
    "DF=pd.concat([df,dum], axis=1)"
   ]
  },
  {
   "cell_type": "code",
   "execution_count": 20,
   "metadata": {},
   "outputs": [],
   "source": [
    "DF.drop(labels=[\n",
    " 'poutcome',\n",
    " 'month',\n",
    " 'contact',\n",
    " 'job',\n",
    " 'default',\n",
    " 'education',\n",
    " 'marital',\"housing\",'loan',\"day_of_week\",\"previous\"], inplace=True, axis=1)"
   ]
  },
  {
   "cell_type": "code",
   "execution_count": 21,
   "metadata": {},
   "outputs": [
    {
     "data": {
      "text/plain": [
       "Index(['age', 'duration', 'campaign', 'pdays', 'emp_var_rate',\n",
       "       'cons_price_idx', 'cons_conf_idx', 'euribor3m', 'nr_employed', 'Target',\n",
       "       'poutcome_nonexistent', 'poutcome_success', 'month_aug', 'month_dec',\n",
       "       'month_jul', 'month_jun', 'month_mar', 'month_may', 'month_nov',\n",
       "       'month_oct', 'month_sep', 'contact_telephone', 'job_blue-collar',\n",
       "       'job_entrepreneur', 'job_housemaid', 'job_management', 'job_retired',\n",
       "       'job_self-employed', 'job_services', 'job_student', 'job_technician',\n",
       "       'job_unemployed', 'job_unknown', 'default_unknown', 'default_yes',\n",
       "       'education_basic.6y', 'education_basic.9y', 'education_high.school',\n",
       "       'education_illiterate', 'education_professional.course',\n",
       "       'education_university.degree', 'education_unknown', 'marital_married',\n",
       "       'marital_single', 'marital_unknown', 'housing_unknown', 'housing_yes',\n",
       "       'loan_unknown', 'loan_yes', 'day_of_week_mon', 'day_of_week_thu',\n",
       "       'day_of_week_tue', 'day_of_week_wed', 'previous_1', 'previous_2',\n",
       "       'previous_3', 'previous_4', 'previous_5', 'previous_6', 'previous_7'],\n",
       "      dtype='object')"
      ]
     },
     "execution_count": 21,
     "metadata": {},
     "output_type": "execute_result"
    }
   ],
   "source": [
    "DF.columns"
   ]
  },
  {
   "cell_type": "code",
   "execution_count": 22,
   "metadata": {},
   "outputs": [],
   "source": [
    "# import packages\n",
    "import pandas as pd\n",
    "import numpy as np\n",
    "import pandas.core.algorithms as algos\n",
    "from pandas import Series\n",
    "import scipy.stats.stats as stats\n",
    "import re\n",
    "import traceback\n",
    "import string\n",
    "#to find information values strictly for binary response and logistic regression\n",
    "max_bin = 20\n",
    "force_bin = 3\n",
    "\n",
    "# define a binning function\n",
    "def mono_bin(Y, X, n = max_bin):\n",
    "    \n",
    "    df1 = pd.DataFrame({\"X\": X, \"Y\": Y})\n",
    "    justmiss = df1[['X','Y']][df1.X.isnull()]\n",
    "    notmiss = df1[['X','Y']][df1.X.notnull()]\n",
    "    r = 0\n",
    "    while np.abs(r) < 1:\n",
    "        try:\n",
    "            d1 = pd.DataFrame({\"X\": notmiss.X, \"Y\": notmiss.Y, \"Bucket\": pd.qcut(notmiss.X, n)})\n",
    "            d2 = d1.groupby('Bucket', as_index=True)\n",
    "            r, p = stats.spearmanr(d2.mean().X, d2.mean().Y)\n",
    "            n = n - 1 \n",
    "        except Exception as e:\n",
    "            n = n - 1\n",
    "\n",
    "    if len(d2) == 1:\n",
    "        n = force_bin         \n",
    "        bins = algos.quantile(notmiss.X, np.linspace(0, 1, n))\n",
    "        if len(np.unique(bins)) == 2:\n",
    "            bins = np.insert(bins, 0, 1)\n",
    "            bins[1] = bins[1]-(bins[1]/2)\n",
    "        d1 = pd.DataFrame({\"X\": notmiss.X, \"Y\": notmiss.Y, \"Bucket\": pd.cut(notmiss.X, np.unique(bins),include_lowest=True)}) \n",
    "        d2 = d1.groupby('Bucket', as_index=True)\n",
    "    \n",
    "    d3 = pd.DataFrame({},index=[])\n",
    "    d3[\"MIN_VALUE\"] = d2.min().X\n",
    "    d3[\"MAX_VALUE\"] = d2.max().X\n",
    "    d3[\"COUNT\"] = d2.count().Y\n",
    "    d3[\"EVENT\"] = d2.sum().Y\n",
    "    d3[\"NONEVENT\"] = d2.count().Y - d2.sum().Y\n",
    "    d3=d3.reset_index(drop=True)\n",
    "    \n",
    "    if len(justmiss.index) > 0:\n",
    "        d4 = pd.DataFrame({'MIN_VALUE':np.nan},index=[0])\n",
    "        d4[\"MAX_VALUE\"] = np.nan\n",
    "        d4[\"COUNT\"] = justmiss.count().Y\n",
    "        d4[\"EVENT\"] = justmiss.sum().Y\n",
    "        d4[\"NONEVENT\"] = justmiss.count().Y - justmiss.sum().Y\n",
    "        d3 = d3.append(d4,ignore_index=True)\n",
    "    \n",
    "    d3[\"EVENT_RATE\"] = d3.EVENT/d3.COUNT\n",
    "    d3[\"NON_EVENT_RATE\"] = d3.NONEVENT/d3.COUNT\n",
    "    d3[\"DIST_EVENT\"] = d3.EVENT/d3.sum().EVENT\n",
    "    d3[\"DIST_NON_EVENT\"] = d3.NONEVENT/d3.sum().NONEVENT\n",
    "    d3[\"WOE\"] = np.log(d3.DIST_EVENT/d3.DIST_NON_EVENT)\n",
    "    d3[\"IV\"] = (d3.DIST_EVENT-d3.DIST_NON_EVENT)*np.log(d3.DIST_EVENT/d3.DIST_NON_EVENT)\n",
    "    d3[\"VAR_NAME\"] = \"VAR\"\n",
    "    d3 = d3[['VAR_NAME','MIN_VALUE', 'MAX_VALUE', 'COUNT', 'EVENT', 'EVENT_RATE', 'NONEVENT', 'NON_EVENT_RATE', 'DIST_EVENT','DIST_NON_EVENT','WOE', 'IV']]       \n",
    "    d3 = d3.replace([np.inf, -np.inf], 0)\n",
    "    d3.IV = d3.IV.sum()\n",
    "    \n",
    "    return(d3)\n",
    "\n",
    "def char_bin(Y, X):\n",
    "        \n",
    "    df1 = pd.DataFrame({\"X\": X, \"Y\": Y})\n",
    "    justmiss = df1[['X','Y']][df1.X.isnull()]\n",
    "    notmiss = df1[['X','Y']][df1.X.notnull()]    \n",
    "    df2 = notmiss.groupby('X',as_index=True)\n",
    "    \n",
    "    d3 = pd.DataFrame({},index=[])\n",
    "    d3[\"COUNT\"] = df2.count().Y\n",
    "    d3[\"MIN_VALUE\"] = df2.sum().Y.index\n",
    "    d3[\"MAX_VALUE\"] = d3[\"MIN_VALUE\"]\n",
    "    d3[\"EVENT\"] = df2.sum().Y\n",
    "    d3[\"NONEVENT\"] = df2.count().Y - df2.sum().Y\n",
    "    \n",
    "    if len(justmiss.index) > 0:\n",
    "        d4 = pd.DataFrame({'MIN_VALUE':np.nan},index=[0])\n",
    "        d4[\"MAX_VALUE\"] = np.nan\n",
    "        d4[\"COUNT\"] = justmiss.count().Y\n",
    "        d4[\"EVENT\"] = justmiss.sum().Y\n",
    "        d4[\"NONEVENT\"] = justmiss.count().Y - justmiss.sum().Y\n",
    "        d3 = d3.append(d4,ignore_index=True)\n",
    "    \n",
    "    d3[\"EVENT_RATE\"] = d3.EVENT/d3.COUNT\n",
    "    d3[\"NON_EVENT_RATE\"] = d3.NONEVENT/d3.COUNT\n",
    "    d3[\"DIST_EVENT\"] = d3.EVENT/d3.sum().EVENT\n",
    "    d3[\"DIST_NON_EVENT\"] = d3.NONEVENT/d3.sum().NONEVENT\n",
    "    d3[\"WOE\"] = np.log(d3.DIST_EVENT/d3.DIST_NON_EVENT)\n",
    "    d3[\"IV\"] = (d3.DIST_EVENT-d3.DIST_NON_EVENT)*np.log(d3.DIST_EVENT/d3.DIST_NON_EVENT)\n",
    "    d3[\"VAR_NAME\"] = \"VAR\"\n",
    "    d3 = d3[['VAR_NAME','MIN_VALUE', 'MAX_VALUE', 'COUNT', 'EVENT', 'EVENT_RATE', 'NONEVENT', 'NON_EVENT_RATE', 'DIST_EVENT','DIST_NON_EVENT','WOE', 'IV']]      \n",
    "    d3 = d3.replace([np.inf, -np.inf], 0)\n",
    "    d3.IV = d3.IV.sum()\n",
    "    d3 = d3.reset_index(drop=True)\n",
    "    \n",
    "    return(d3)\n",
    "\n",
    "def data_vars(df1, target):\n",
    "    \n",
    "    stack = traceback.extract_stack()\n",
    "    filename, lineno, function_name, code = stack[-2]\n",
    "    vars_name = re.compile(r'\\((.*?)\\).*$').search(code).groups()[0]\n",
    "    final = (re.findall(r\"[\\w']+\", vars_name))[-1]\n",
    "    \n",
    "    x = df1.dtypes.index\n",
    "    count = -1\n",
    "    \n",
    "    for i in x:\n",
    "        if i.upper() not in (final.upper()):\n",
    "            if np.issubdtype(df1[i], np.number) and len(Series.unique(df1[i])) > 2:\n",
    "                conv = mono_bin(target, df1[i])\n",
    "                conv[\"VAR_NAME\"] = i\n",
    "                count = count + 1\n",
    "            else:\n",
    "                conv = char_bin(target, df1[i])\n",
    "                conv[\"VAR_NAME\"] = i            \n",
    "                count = count + 1\n",
    "                \n",
    "            if count == 0:\n",
    "                iv_df = conv\n",
    "            else:\n",
    "                iv_df = iv_df.append(conv,ignore_index=True)\n",
    "    \n",
    "    iv = pd.DataFrame({'IV':iv_df.groupby('VAR_NAME').IV.max()})\n",
    "    iv = iv.reset_index()\n",
    "    return(iv_df,iv)"
   ]
  },
  {
   "cell_type": "code",
   "execution_count": 23,
   "metadata": {},
   "outputs": [
    {
     "data": {
      "text/html": [
       "<div>\n",
       "<style scoped>\n",
       "    .dataframe tbody tr th:only-of-type {\n",
       "        vertical-align: middle;\n",
       "    }\n",
       "\n",
       "    .dataframe tbody tr th {\n",
       "        vertical-align: top;\n",
       "    }\n",
       "\n",
       "    .dataframe thead th {\n",
       "        text-align: right;\n",
       "    }\n",
       "</style>\n",
       "<table border=\"1\" class=\"dataframe\">\n",
       "  <thead>\n",
       "    <tr style=\"text-align: right;\">\n",
       "      <th></th>\n",
       "      <th>VAR_NAME</th>\n",
       "      <th>MIN_VALUE</th>\n",
       "      <th>MAX_VALUE</th>\n",
       "      <th>COUNT</th>\n",
       "      <th>EVENT</th>\n",
       "      <th>EVENT_RATE</th>\n",
       "      <th>NONEVENT</th>\n",
       "      <th>NON_EVENT_RATE</th>\n",
       "      <th>DIST_EVENT</th>\n",
       "      <th>DIST_NON_EVENT</th>\n",
       "      <th>WOE</th>\n",
       "      <th>IV</th>\n",
       "    </tr>\n",
       "  </thead>\n",
       "  <tbody>\n",
       "    <tr>\n",
       "      <td>0</td>\n",
       "      <td>age</td>\n",
       "      <td>17.0</td>\n",
       "      <td>38.0</td>\n",
       "      <td>21175</td>\n",
       "      <td>2523</td>\n",
       "      <td>0.119150</td>\n",
       "      <td>18652</td>\n",
       "      <td>0.880850</td>\n",
       "      <td>0.543750</td>\n",
       "      <td>0.510343</td>\n",
       "      <td>0.063407</td>\n",
       "      <td>4.479019e-03</td>\n",
       "    </tr>\n",
       "    <tr>\n",
       "      <td>1</td>\n",
       "      <td>age</td>\n",
       "      <td>39.0</td>\n",
       "      <td>98.0</td>\n",
       "      <td>20013</td>\n",
       "      <td>2117</td>\n",
       "      <td>0.105781</td>\n",
       "      <td>17896</td>\n",
       "      <td>0.894219</td>\n",
       "      <td>0.456250</td>\n",
       "      <td>0.489657</td>\n",
       "      <td>-0.070665</td>\n",
       "      <td>4.479019e-03</td>\n",
       "    </tr>\n",
       "    <tr>\n",
       "      <td>2</td>\n",
       "      <td>duration</td>\n",
       "      <td>0.0</td>\n",
       "      <td>36.0</td>\n",
       "      <td>2092</td>\n",
       "      <td>0</td>\n",
       "      <td>0.000000</td>\n",
       "      <td>2092</td>\n",
       "      <td>1.000000</td>\n",
       "      <td>0.000000</td>\n",
       "      <td>0.057240</td>\n",
       "      <td>0.000000</td>\n",
       "      <td>1.625228e+00</td>\n",
       "    </tr>\n",
       "    <tr>\n",
       "      <td>3</td>\n",
       "      <td>duration</td>\n",
       "      <td>37.0</td>\n",
       "      <td>59.0</td>\n",
       "      <td>2089</td>\n",
       "      <td>1</td>\n",
       "      <td>0.000479</td>\n",
       "      <td>2088</td>\n",
       "      <td>0.999521</td>\n",
       "      <td>0.000216</td>\n",
       "      <td>0.057130</td>\n",
       "      <td>-5.580050</td>\n",
       "      <td>1.625228e+00</td>\n",
       "    </tr>\n",
       "    <tr>\n",
       "      <td>4</td>\n",
       "      <td>duration</td>\n",
       "      <td>60.0</td>\n",
       "      <td>75.0</td>\n",
       "      <td>2133</td>\n",
       "      <td>11</td>\n",
       "      <td>0.005157</td>\n",
       "      <td>2122</td>\n",
       "      <td>0.994843</td>\n",
       "      <td>0.002371</td>\n",
       "      <td>0.058061</td>\n",
       "      <td>-3.198307</td>\n",
       "      <td>1.625228e+00</td>\n",
       "    </tr>\n",
       "    <tr>\n",
       "      <td>...</td>\n",
       "      <td>...</td>\n",
       "      <td>...</td>\n",
       "      <td>...</td>\n",
       "      <td>...</td>\n",
       "      <td>...</td>\n",
       "      <td>...</td>\n",
       "      <td>...</td>\n",
       "      <td>...</td>\n",
       "      <td>...</td>\n",
       "      <td>...</td>\n",
       "      <td>...</td>\n",
       "      <td>...</td>\n",
       "    </tr>\n",
       "    <tr>\n",
       "      <td>132</td>\n",
       "      <td>previous_5</td>\n",
       "      <td>1.0</td>\n",
       "      <td>1.0</td>\n",
       "      <td>18</td>\n",
       "      <td>13</td>\n",
       "      <td>0.722222</td>\n",
       "      <td>5</td>\n",
       "      <td>0.277778</td>\n",
       "      <td>0.002802</td>\n",
       "      <td>0.000137</td>\n",
       "      <td>3.019424</td>\n",
       "      <td>8.053628e-03</td>\n",
       "    </tr>\n",
       "    <tr>\n",
       "      <td>133</td>\n",
       "      <td>previous_6</td>\n",
       "      <td>0.0</td>\n",
       "      <td>0.0</td>\n",
       "      <td>41183</td>\n",
       "      <td>4637</td>\n",
       "      <td>0.112595</td>\n",
       "      <td>36546</td>\n",
       "      <td>0.887405</td>\n",
       "      <td>0.999353</td>\n",
       "      <td>0.999945</td>\n",
       "      <td>-0.000592</td>\n",
       "      <td>1.461800e-03</td>\n",
       "    </tr>\n",
       "    <tr>\n",
       "      <td>134</td>\n",
       "      <td>previous_6</td>\n",
       "      <td>1.0</td>\n",
       "      <td>1.0</td>\n",
       "      <td>5</td>\n",
       "      <td>3</td>\n",
       "      <td>0.600000</td>\n",
       "      <td>2</td>\n",
       "      <td>0.400000</td>\n",
       "      <td>0.000647</td>\n",
       "      <td>0.000055</td>\n",
       "      <td>2.469377</td>\n",
       "      <td>1.461800e-03</td>\n",
       "    </tr>\n",
       "    <tr>\n",
       "      <td>135</td>\n",
       "      <td>previous_7</td>\n",
       "      <td>0.0</td>\n",
       "      <td>0.0</td>\n",
       "      <td>41187</td>\n",
       "      <td>4640</td>\n",
       "      <td>0.112657</td>\n",
       "      <td>36547</td>\n",
       "      <td>0.887343</td>\n",
       "      <td>1.000000</td>\n",
       "      <td>0.999973</td>\n",
       "      <td>0.000027</td>\n",
       "      <td>7.486498e-10</td>\n",
       "    </tr>\n",
       "    <tr>\n",
       "      <td>136</td>\n",
       "      <td>previous_7</td>\n",
       "      <td>1.0</td>\n",
       "      <td>1.0</td>\n",
       "      <td>1</td>\n",
       "      <td>0</td>\n",
       "      <td>0.000000</td>\n",
       "      <td>1</td>\n",
       "      <td>1.000000</td>\n",
       "      <td>0.000000</td>\n",
       "      <td>0.000027</td>\n",
       "      <td>0.000000</td>\n",
       "      <td>7.486498e-10</td>\n",
       "    </tr>\n",
       "  </tbody>\n",
       "</table>\n",
       "<p>137 rows × 12 columns</p>\n",
       "</div>"
      ],
      "text/plain": [
       "       VAR_NAME  MIN_VALUE  MAX_VALUE  COUNT  EVENT  EVENT_RATE  NONEVENT  \\\n",
       "0           age       17.0       38.0  21175   2523    0.119150     18652   \n",
       "1           age       39.0       98.0  20013   2117    0.105781     17896   \n",
       "2      duration        0.0       36.0   2092      0    0.000000      2092   \n",
       "3      duration       37.0       59.0   2089      1    0.000479      2088   \n",
       "4      duration       60.0       75.0   2133     11    0.005157      2122   \n",
       "..          ...        ...        ...    ...    ...         ...       ...   \n",
       "132  previous_5        1.0        1.0     18     13    0.722222         5   \n",
       "133  previous_6        0.0        0.0  41183   4637    0.112595     36546   \n",
       "134  previous_6        1.0        1.0      5      3    0.600000         2   \n",
       "135  previous_7        0.0        0.0  41187   4640    0.112657     36547   \n",
       "136  previous_7        1.0        1.0      1      0    0.000000         1   \n",
       "\n",
       "     NON_EVENT_RATE  DIST_EVENT  DIST_NON_EVENT       WOE            IV  \n",
       "0          0.880850    0.543750        0.510343  0.063407  4.479019e-03  \n",
       "1          0.894219    0.456250        0.489657 -0.070665  4.479019e-03  \n",
       "2          1.000000    0.000000        0.057240  0.000000  1.625228e+00  \n",
       "3          0.999521    0.000216        0.057130 -5.580050  1.625228e+00  \n",
       "4          0.994843    0.002371        0.058061 -3.198307  1.625228e+00  \n",
       "..              ...         ...             ...       ...           ...  \n",
       "132        0.277778    0.002802        0.000137  3.019424  8.053628e-03  \n",
       "133        0.887405    0.999353        0.999945 -0.000592  1.461800e-03  \n",
       "134        0.400000    0.000647        0.000055  2.469377  1.461800e-03  \n",
       "135        0.887343    1.000000        0.999973  0.000027  7.486498e-10  \n",
       "136        1.000000    0.000000        0.000027  0.000000  7.486498e-10  \n",
       "\n",
       "[137 rows x 12 columns]"
      ]
     },
     "execution_count": 23,
     "metadata": {},
     "output_type": "execute_result"
    }
   ],
   "source": [
    "final_iv, IV = data_vars(DF,DF.Target)\n",
    "final_iv"
   ]
  },
  {
   "cell_type": "code",
   "execution_count": 24,
   "metadata": {},
   "outputs": [],
   "source": [
    "IV=IV.sort_values(\"IV\",ascending=False)\n",
    "IV=IV[IV.IV>=0.02]"
   ]
  },
  {
   "cell_type": "code",
   "execution_count": 25,
   "metadata": {
    "scrolled": true
   },
   "outputs": [
    {
     "data": {
      "text/plain": [
       "(array([ 0,  1,  2,  3,  4,  5,  6,  7,  8,  9, 10, 11, 12, 13, 14, 15, 16,\n",
       "        17, 18, 19, 20, 21, 22, 23, 24]),\n",
       " <a list of 25 Text xticklabel objects>)"
      ]
     },
     "execution_count": 25,
     "metadata": {},
     "output_type": "execute_result"
    },
    {
     "data": {
      "image/png": "[encoded data removed]",
      "text/plain": [
       "<Figure size 720x432 with 1 Axes>"
      ]
     },
     "metadata": {
      "needs_background": "light"
     },
     "output_type": "display_data"
    }
   ],
   "source": [
    "plt.rcParams['figure.figsize']=10,6\n",
    "sns.barplot(x=\"VAR_NAME\", y=\"IV\",data=IV)\n",
    "plt.xticks(rotation=90)"
   ]
  },
  {
   "cell_type": "code",
   "execution_count": 26,
   "metadata": {},
   "outputs": [
    {
     "data": {
      "text/plain": [
       "['duration',\n",
       " 'poutcome_success',\n",
       " 'euribor3m',\n",
       " 'nr_employed',\n",
       " 'poutcome_nonexistent',\n",
       " 'emp_var_rate',\n",
       " 'contact_telephone',\n",
       " 'month_may',\n",
       " 'previous_2',\n",
       " 'default_unknown',\n",
       " 'cons_price_idx',\n",
       " 'month_mar',\n",
       " 'month_oct',\n",
       " 'previous_1',\n",
       " 'cons_conf_idx',\n",
       " 'month_sep',\n",
       " 'job_blue-collar',\n",
       " 'previous_3',\n",
       " 'job_retired',\n",
       " 'job_student',\n",
       " 'month_dec',\n",
       " 'campaign',\n",
       " 'marital_single',\n",
       " 'education_university.degree',\n",
       " 'education_basic.9y']"
      ]
     },
     "execution_count": 26,
     "metadata": {},
     "output_type": "execute_result"
    }
   ],
   "source": [
    "list(IV.VAR_NAME)"
   ]
  },
  {
   "cell_type": "code",
   "execution_count": 27,
   "metadata": {},
   "outputs": [],
   "source": [
    "DF=DF.loc[:,['duration',\n",
    " 'poutcome_success',\n",
    " 'euribor3m',\n",
    " 'nr_employed',\n",
    " 'poutcome_nonexistent',\n",
    " 'emp_var_rate',\n",
    " 'contact_telephone',\n",
    " 'month_may',\n",
    " 'previous_2',\n",
    " 'default_unknown',\n",
    " 'cons_price_idx',\n",
    " 'month_mar',\n",
    " 'month_oct',\n",
    " 'previous_1',\n",
    " 'cons_conf_idx',\n",
    " 'month_sep',\n",
    " 'job_blue-collar',\n",
    " 'previous_3',\n",
    " 'job_retired',\n",
    " 'job_student',\n",
    " 'month_dec',\n",
    " 'campaign',\n",
    " 'marital_single',\n",
    " 'education_university.degree',\n",
    " 'education_basic.9y',\"Target\"]]"
   ]
  },
  {
   "cell_type": "code",
   "execution_count": 28,
   "metadata": {},
   "outputs": [],
   "source": [
    "X=DF.loc[:,['duration',\n",
    " 'poutcome_success',\n",
    " 'euribor3m',\n",
    " 'nr_employed',\n",
    " 'poutcome_nonexistent',\n",
    " 'emp_var_rate',\n",
    " 'contact_telephone',\n",
    " 'month_may',\n",
    " 'previous_2',\n",
    " 'default_unknown',\n",
    " 'cons_price_idx',\n",
    " 'month_mar',\n",
    " 'month_oct',\n",
    " 'previous_1',\n",
    " 'cons_conf_idx',\n",
    " 'month_sep',\n",
    " 'job_blue-collar',\n",
    " 'previous_3',\n",
    " 'job_retired',\n",
    " 'job_student',\n",
    " 'month_dec',\n",
    " 'campaign',\n",
    " 'marital_single',\n",
    " 'education_university.degree',\n",
    " 'education_basic.9y']]\n",
    "y=DF.loc[:,\"Target\"]\n"
   ]
  },
  {
   "cell_type": "markdown",
   "metadata": {},
   "source": [
    "X=DF.loc[:,['duration',\n",
    " 'poutcome_success',\n",
    " 'emp_var_rate',\n",
    " 'contact_telephone',\n",
    " 'month_may',\n",
    " 'previous_2',\n",
    " 'default_unknown',\n",
    " 'month_mar',\n",
    " 'month_oct',\n",
    " 'previous_1',\n",
    " 'month_sep',\n",
    " 'job_blue-collar',\n",
    " 'previous_3',\n",
    " 'job_retired',\n",
    " 'job_student',\n",
    " 'month_dec',\n",
    " 'campaign',\n",
    " 'marital_single',\n",
    " 'education_university.degree',\n",
    " 'education_basic.9y']]"
   ]
  },
  {
   "cell_type": "markdown",
   "metadata": {},
   "source": [
    "vif = pd.DataFrame()\n",
    "vif[\"VIF Factor\"] = [variance_inflation_factor(X.values, i) for i in range(X.shape[1])]\n",
    "vif[\"features\"] = X.columns\n",
    "vif\n"
   ]
  },
  {
   "cell_type": "code",
   "execution_count": 29,
   "metadata": {},
   "outputs": [],
   "source": [
    "glm=LogisticRegression()"
   ]
  },
  {
   "cell_type": "code",
   "execution_count": 30,
   "metadata": {},
   "outputs": [],
   "source": [
    "X_train, X_test, y_train, y_test = train_test_split(X, y, test_size=0.3, random_state=1429)"
   ]
  },
  {
   "cell_type": "code",
   "execution_count": 31,
   "metadata": {},
   "outputs": [],
   "source": [
    "sc=StandardScaler()"
   ]
  },
  {
   "cell_type": "code",
   "execution_count": 32,
   "metadata": {},
   "outputs": [],
   "source": [
    "X_train_skl=sc.fit_transform(X_train)"
   ]
  },
  {
   "cell_type": "code",
   "execution_count": 33,
   "metadata": {},
   "outputs": [
    {
     "data": {
      "text/plain": [
       "LogisticRegression(C=1.0, class_weight=None, dual=False, fit_intercept=True,\n",
       "                   intercept_scaling=1, l1_ratio=None, max_iter=100,\n",
       "                   multi_class='warn', n_jobs=None, penalty='l2',\n",
       "                   random_state=None, solver='warn', tol=0.0001, verbose=0,\n",
       "                   warm_start=False)"
      ]
     },
     "execution_count": 33,
     "metadata": {},
     "output_type": "execute_result"
    }
   ],
   "source": [
    "glm.fit(X_train_skl, y_train)"
   ]
  },
  {
   "cell_type": "code",
   "execution_count": 34,
   "metadata": {},
   "outputs": [],
   "source": [
    "pred=glm.predict(X_test)"
   ]
  },
  {
   "cell_type": "code",
   "execution_count": 35,
   "metadata": {},
   "outputs": [
    {
     "name": "stdout",
     "output_type": "stream",
     "text": [
      "              precision    recall  f1-score   support\n",
      "\n",
      "           0       0.94      0.91      0.92     10980\n",
      "           1       0.41      0.50      0.45      1377\n",
      "\n",
      "    accuracy                           0.86     12357\n",
      "   macro avg       0.67      0.71      0.69     12357\n",
      "weighted avg       0.88      0.86      0.87     12357\n",
      "\n"
     ]
    }
   ],
   "source": [
    "print(classification_report(y_test, pred))"
   ]
  },
  {
   "cell_type": "code",
   "execution_count": 36,
   "metadata": {},
   "outputs": [
    {
     "name": "stdout",
     "output_type": "stream",
     "text": [
      "AUC is 82.60%\n"
     ]
    }
   ],
   "source": [
    "print(\"AUC is {:.2f}%\".format(roc_auc_score(y_test, glm.predict_proba(X_test)[:,1])*100))\n",
    "AUC=roc_auc_score(y_test, glm.predict_proba(X_test)[:,1])"
   ]
  },
  {
   "cell_type": "code",
   "execution_count": 37,
   "metadata": {},
   "outputs": [],
   "source": [
    "fpr, tpr, th=roc_curve(y_test, glm.predict_proba(X_test)[:,1])"
   ]
  },
  {
   "cell_type": "code",
   "execution_count": 38,
   "metadata": {},
   "outputs": [
    {
     "data": {
      "text/plain": [
       "<matplotlib.legend.Legend at 0x24b2a032788>"
      ]
     },
     "execution_count": 38,
     "metadata": {},
     "output_type": "execute_result"
    },
    {
     "data": {
      "image/png": "[encoded data removed]",
      "text/plain": [
       "<Figure size 720x432 with 1 Axes>"
      ]
     },
     "metadata": {
      "needs_background": "light"
     },
     "output_type": "display_data"
    }
   ],
   "source": [
    "sns.lineplot(fpr,tpr)\n",
    "sns.lineplot([0,1], [0,1])\n",
    "plt.xlabel(\"False +ve Rate\")\n",
    "plt.ylabel(\"True +ve Rate\")\n",
    "plt.legend(title='AUROC', labels=[np.round(AUC,2)])"
   ]
  },
  {
   "cell_type": "code",
   "execution_count": 39,
   "metadata": {},
   "outputs": [
    {
     "data": {
      "text/plain": [
       "array([[9975, 1005],\n",
       "       [ 682,  695]], dtype=int64)"
      ]
     },
     "execution_count": 39,
     "metadata": {},
     "output_type": "execute_result"
    },
    {
     "data": {
      "image/png": "[encoded data removed]",
      "text/plain": [
       "<Figure size 720x432 with 2 Axes>"
      ]
     },
     "metadata": {
      "needs_background": "light"
     },
     "output_type": "display_data"
    }
   ],
   "source": [
    "cm=confusion_matrix(y_test, pred)\n",
    "sns.heatmap(cm, annot=True)\n",
    "plt.ylim(2,0)\n",
    "plt.xlabel(\"Predicted\")\n",
    "plt.ylabel(\"Actual\")\n",
    "cm"
   ]
  },
  {
   "cell_type": "code",
   "execution_count": 40,
   "metadata": {},
   "outputs": [],
   "source": [
    "df_train=pd.concat([X_train, y_train], axis=1)"
   ]
  },
  {
   "cell_type": "code",
   "execution_count": 41,
   "metadata": {},
   "outputs": [
    {
     "data": {
      "text/plain": [
       "0    25568\n",
       "1     3263\n",
       "Name: Target, dtype: int64"
      ]
     },
     "execution_count": 41,
     "metadata": {},
     "output_type": "execute_result"
    }
   ],
   "source": [
    "df_train.Target.value_counts()"
   ]
  },
  {
   "cell_type": "code",
   "execution_count": 42,
   "metadata": {},
   "outputs": [],
   "source": [
    "zero=df_train.loc[df_train.Target==0,:]\n",
    "one=df_train.loc[df_train.Target==1,:]"
   ]
  },
  {
   "cell_type": "code",
   "execution_count": 43,
   "metadata": {},
   "outputs": [],
   "source": [
    "ones_upsampled=resample(one, replace=True, n_samples=len(zero), random_state=1429)"
   ]
  },
  {
   "cell_type": "code",
   "execution_count": 44,
   "metadata": {},
   "outputs": [
    {
     "data": {
      "text/plain": [
       "(25568, 26)"
      ]
     },
     "execution_count": 44,
     "metadata": {},
     "output_type": "execute_result"
    }
   ],
   "source": [
    "zero.shape"
   ]
  },
  {
   "cell_type": "code",
   "execution_count": 45,
   "metadata": {},
   "outputs": [
    {
     "data": {
      "text/plain": [
       "(25568, 26)"
      ]
     },
     "execution_count": 45,
     "metadata": {},
     "output_type": "execute_result"
    }
   ],
   "source": [
    "ones_upsampled.shape"
   ]
  },
  {
   "cell_type": "code",
   "execution_count": 46,
   "metadata": {},
   "outputs": [],
   "source": [
    "df_train_up=pd.concat([zero, ones_upsampled], axis='rows')"
   ]
  },
  {
   "cell_type": "code",
   "execution_count": 47,
   "metadata": {},
   "outputs": [],
   "source": [
    "zero_downsampled=resample(zero, replace=False, n_samples=len(one), random_state=1429)"
   ]
  },
  {
   "cell_type": "code",
   "execution_count": 48,
   "metadata": {},
   "outputs": [
    {
     "data": {
      "text/plain": [
       "(3263, 26)"
      ]
     },
     "execution_count": 48,
     "metadata": {},
     "output_type": "execute_result"
    }
   ],
   "source": [
    "zero_downsampled.shape"
   ]
  },
  {
   "cell_type": "code",
   "execution_count": 49,
   "metadata": {},
   "outputs": [
    {
     "data": {
      "text/plain": [
       "(3263, 26)"
      ]
     },
     "execution_count": 49,
     "metadata": {},
     "output_type": "execute_result"
    }
   ],
   "source": [
    "one.shape"
   ]
  },
  {
   "cell_type": "code",
   "execution_count": 50,
   "metadata": {},
   "outputs": [],
   "source": [
    "df_train_down=pd.concat([zero_downsampled, one], axis='rows')"
   ]
  },
  {
   "cell_type": "code",
   "execution_count": 51,
   "metadata": {},
   "outputs": [],
   "source": [
    "smt=SMOTE(random_state=1429, ratio=1, n_jobs=-1)"
   ]
  },
  {
   "cell_type": "code",
   "execution_count": 52,
   "metadata": {},
   "outputs": [],
   "source": [
    "X_sm_train, y_sm_train = smt.fit_sample(X_train, y_train)\n",
    "X_sm_train = pd.DataFrame(data=X_sm_train,columns=X_train.columns )\n",
    "y_sm_train= pd.DataFrame(data=y_sm_train,columns=['Target'])"
   ]
  },
  {
   "cell_type": "code",
   "execution_count": 53,
   "metadata": {},
   "outputs": [
    {
     "data": {
      "text/plain": [
       "(51136, 25)"
      ]
     },
     "execution_count": 53,
     "metadata": {},
     "output_type": "execute_result"
    }
   ],
   "source": [
    "X_sm_train.shape"
   ]
  },
  {
   "cell_type": "code",
   "execution_count": 54,
   "metadata": {},
   "outputs": [
    {
     "data": {
      "text/plain": [
       "(51136, 1)"
      ]
     },
     "execution_count": 54,
     "metadata": {},
     "output_type": "execute_result"
    }
   ],
   "source": [
    "y_sm_train.shape"
   ]
  },
  {
   "cell_type": "code",
   "execution_count": 55,
   "metadata": {},
   "outputs": [],
   "source": [
    "X_re_up=df_train_up.loc[:,['duration', 'poutcome_success', 'euribor3m', 'nr_employed',\n",
    "       'poutcome_nonexistent', 'emp_var_rate', 'contact_telephone',\n",
    "       'month_may', 'previous_2', 'default_unknown', 'cons_price_idx',\n",
    "       'month_mar', 'month_oct', 'previous_1', 'cons_conf_idx', 'month_sep',\n",
    "       'job_blue-collar', 'previous_3', 'job_retired', 'job_student',\n",
    "       'month_dec', 'campaign', 'marital_single',\n",
    "       'education_university.degree', 'education_basic.9y']]\n",
    "y_re_up=df_train_up.loc[:,'Target']"
   ]
  },
  {
   "cell_type": "code",
   "execution_count": 56,
   "metadata": {},
   "outputs": [],
   "source": [
    "X_re_down=df_train_down.loc[:,['duration', 'poutcome_success', 'euribor3m', 'nr_employed',\n",
    "       'poutcome_nonexistent', 'emp_var_rate', 'contact_telephone',\n",
    "       'month_may', 'previous_2', 'default_unknown', 'cons_price_idx',\n",
    "       'month_mar', 'month_oct', 'previous_1', 'cons_conf_idx', 'month_sep',\n",
    "       'job_blue-collar', 'previous_3', 'job_retired', 'job_student',\n",
    "       'month_dec', 'campaign', 'marital_single',\n",
    "       'education_university.degree', 'education_basic.9y']]\n",
    "y_re_down=df_train_down.loc[:,'Target']"
   ]
  },
  {
   "cell_type": "code",
   "execution_count": 57,
   "metadata": {},
   "outputs": [],
   "source": [
    "X_re_up_skl=sc.fit_transform(X_re_up)\n",
    "X_re_down_skl=sc.fit_transform(X_re_down)"
   ]
  },
  {
   "cell_type": "code",
   "execution_count": 58,
   "metadata": {},
   "outputs": [
    {
     "data": {
      "text/plain": [
       "LogisticRegression(C=1.0, class_weight=None, dual=False, fit_intercept=True,\n",
       "                   intercept_scaling=1, l1_ratio=None, max_iter=100,\n",
       "                   multi_class='warn', n_jobs=None, penalty='l2',\n",
       "                   random_state=None, solver='warn', tol=0.0001, verbose=0,\n",
       "                   warm_start=False)"
      ]
     },
     "execution_count": 58,
     "metadata": {},
     "output_type": "execute_result"
    }
   ],
   "source": [
    "glm.fit(X_re_up_skl,y_re_up)"
   ]
  },
  {
   "cell_type": "code",
   "execution_count": 59,
   "metadata": {},
   "outputs": [],
   "source": [
    "pup=glm.predict(X_test)"
   ]
  },
  {
   "cell_type": "code",
   "execution_count": 60,
   "metadata": {},
   "outputs": [
    {
     "name": "stdout",
     "output_type": "stream",
     "text": [
      "              precision    recall  f1-score   support\n",
      "\n",
      "           0       0.94      0.86      0.90     10980\n",
      "           1       0.34      0.58      0.43      1377\n",
      "\n",
      "    accuracy                           0.83     12357\n",
      "   macro avg       0.64      0.72      0.66     12357\n",
      "weighted avg       0.87      0.83      0.85     12357\n",
      "\n"
     ]
    }
   ],
   "source": [
    "print(classification_report(y_test, pup))"
   ]
  },
  {
   "cell_type": "code",
   "execution_count": 61,
   "metadata": {},
   "outputs": [
    {
     "name": "stdout",
     "output_type": "stream",
     "text": [
      "              precision    recall  f1-score   support\n",
      "\n",
      "           0       0.91      0.98      0.94     10980\n",
      "           1       0.55      0.20      0.29      1377\n",
      "\n",
      "    accuracy                           0.89     12357\n",
      "   macro avg       0.73      0.59      0.62     12357\n",
      "weighted avg       0.87      0.89      0.87     12357\n",
      "\n"
     ]
    }
   ],
   "source": [
    "glm.fit(X_re_down_skl,y_re_down)\n",
    "pud=glm.predict(X_test)\n",
    "print(classification_report(y_test, pud))"
   ]
  },
  {
   "cell_type": "code",
   "execution_count": 62,
   "metadata": {},
   "outputs": [
    {
     "name": "stdout",
     "output_type": "stream",
     "text": [
      "              precision    recall  f1-score   support\n",
      "\n",
      "           0       0.98      0.86      0.92     10980\n",
      "           1       0.44      0.88      0.58      1377\n",
      "\n",
      "    accuracy                           0.86     12357\n",
      "   macro avg       0.71      0.87      0.75     12357\n",
      "weighted avg       0.92      0.86      0.88     12357\n",
      "\n"
     ]
    }
   ],
   "source": [
    "glm.fit(X_sm_train,y_sm_train)\n",
    "psm=glm.predict(X_test)\n",
    "print(classification_report(y_test, psm))"
   ]
  },
  {
   "cell_type": "code",
   "execution_count": 63,
   "metadata": {},
   "outputs": [
    {
     "data": {
      "text/plain": [
       "<matplotlib.legend.Legend at 0x24b2bd50388>"
      ]
     },
     "execution_count": 63,
     "metadata": {},
     "output_type": "execute_result"
    },
    {
     "data": {
      "image/png": "[encoded data removed]",
      "text/plain": [
       "<Figure size 720x432 with 1 Axes>"
      ]
     },
     "metadata": {
      "needs_background": "light"
     },
     "output_type": "display_data"
    }
   ],
   "source": [
    "fpr, tpr, th=roc_curve(y_test, glm.predict_proba(X_test)[:,1])\n",
    "\n",
    "sns.lineplot(fpr,tpr)\n",
    "sns.lineplot([0,1], [0,1])\n",
    "plt.xlabel(\"False +ve Rate\")\n",
    "plt.ylabel(\"True +ve Rate\")\n",
    "plt.legend(title='AUROC', labels=[np.round(AUC,2)])"
   ]
  },
  {
   "cell_type": "markdown",
   "metadata": {},
   "source": [
    "We will choose smote"
   ]
  },
  {
   "cell_type": "markdown",
   "metadata": {},
   "source": [
    "glm2=sm.Logit(y_sm_train, X_sm_train).fit()"
   ]
  },
  {
   "cell_type": "markdown",
   "metadata": {},
   "source": [
    "glm2.summary()"
   ]
  },
  {
   "cell_type": "code",
   "execution_count": 64,
   "metadata": {},
   "outputs": [
    {
     "name": "stdout",
     "output_type": "stream",
     "text": [
      "                       Results: Ordinary least squares\n",
      "=============================================================================\n",
      "Model:                  OLS                 Adj. R-squared:        0.528     \n",
      "Dependent Variable:     Target              AIC:                   35907.3010\n",
      "Date:                   2019-10-22 08:46    BIC:                   36137.1993\n",
      "No. Observations:       51136               Log-Likelihood:        -17928.   \n",
      "Df Model:               25                  F-statistic:           2285.     \n",
      "Df Residuals:           51110               Prob (F-statistic):    0.00      \n",
      "R-squared:              0.528               Scale:                 0.11810   \n",
      "-----------------------------------------------------------------------------\n",
      "                             Coef.  Std.Err.    t     P>|t|   [0.025   0.975]\n",
      "-----------------------------------------------------------------------------\n",
      "const                       -9.8254   1.5159  -6.4816 0.0000 -12.7965 -6.8542\n",
      "duration                     0.0007   0.0000 164.6653 0.0000   0.0007  0.0007\n",
      "poutcome_success             0.2616   0.0080  32.7067 0.0000   0.2459  0.2773\n",
      "euribor3m                    0.0135   0.0073   1.8559 0.0635  -0.0008  0.0278\n",
      "nr_employed                 -0.0005   0.0001  -3.2108 0.0013  -0.0007 -0.0002\n",
      "poutcome_nonexistent         0.0165   0.0215   0.7699 0.4414  -0.0256  0.0586\n",
      "emp_var_rate                -0.1384   0.0062 -22.1949 0.0000  -0.1507 -0.1262\n",
      "contact_telephone           -0.0584   0.0058 -10.1444 0.0000  -0.0697 -0.0471\n",
      "month_may                   -0.1465   0.0047 -31.3691 0.0000  -0.1557 -0.1374\n",
      "previous_2                  -0.0660   0.0219  -3.0159 0.0026  -0.1089 -0.0231\n",
      "default_unknown             -0.0401   0.0047  -8.5828 0.0000  -0.0493 -0.0310\n",
      "cons_price_idx               0.1338   0.0097  13.7750 0.0000   0.1148  0.1529\n",
      "month_mar                    0.2547   0.0104  24.4757 0.0000   0.2343  0.2751\n",
      "month_oct                    0.0424   0.0102   4.1719 0.0000   0.0225  0.0623\n",
      "previous_1                  -0.0765   0.0212  -3.6127 0.0003  -0.1180 -0.0350\n",
      "cons_conf_idx                0.0055   0.0005  10.8212 0.0000   0.0045  0.0065\n",
      "month_sep                   -0.0024   0.0110  -0.2175 0.8278  -0.0239  0.0191\n",
      "job_blue-collar             -0.0204   0.0048  -4.2393 0.0000  -0.0299 -0.0110\n",
      "previous_3                  -0.0357   0.0248  -1.4372 0.1507  -0.0844  0.0130\n",
      "job_retired                  0.0630   0.0074   8.5115 0.0000   0.0485  0.0775\n",
      "job_student                  0.0774   0.0098   7.9222 0.0000   0.0582  0.0965\n",
      "month_dec                   -0.0862   0.0177  -4.8811 0.0000  -0.1208 -0.0516\n",
      "campaign                    -0.0062   0.0007  -9.0053 0.0000  -0.0075 -0.0048\n",
      "marital_single               0.0231   0.0038   6.0557 0.0000   0.0156  0.0306\n",
      "education_university.degree  0.0306   0.0039   7.8416 0.0000   0.0229  0.0382\n",
      "education_basic.9y          -0.0098   0.0053  -1.8385 0.0660  -0.0203  0.0006\n",
      "-----------------------------------------------------------------------------\n",
      "Omnibus:                1125.211          Durbin-Watson:             1.269   \n",
      "Prob(Omnibus):          0.000             Jarque-Bera (JB):          1425.833\n",
      "Skew:                   -0.290            Prob(JB):                  0.000   \n",
      "Kurtosis:               3.576             Condition No.:             5139607 \n",
      "=============================================================================\n",
      "* The condition number is large (5e+06). This might indicate\n",
      "strong multicollinearity or other numerical problems.\n"
     ]
    }
   ],
   "source": [
    "#Adding constant column of ones, mandatory for sm.OLS model\n",
    "X_1 = sm.add_constant(X_sm_train)\n",
    "#Fitting sm.OLS model\n",
    "model = sm.OLS(y_sm_train,X_1).fit()\n",
    "sig_var=pd.DataFrame(data=model.pvalues[model.pvalues<=0.05],columns=['P-value']).reset_index()\n",
    "print(model.summary2())"
   ]
  },
  {
   "cell_type": "code",
   "execution_count": 65,
   "metadata": {},
   "outputs": [
    {
     "data": {
      "text/html": [
       "<div>\n",
       "<style scoped>\n",
       "    .dataframe tbody tr th:only-of-type {\n",
       "        vertical-align: middle;\n",
       "    }\n",
       "\n",
       "    .dataframe tbody tr th {\n",
       "        vertical-align: top;\n",
       "    }\n",
       "\n",
       "    .dataframe thead th {\n",
       "        text-align: right;\n",
       "    }\n",
       "</style>\n",
       "<table border=\"1\" class=\"dataframe\">\n",
       "  <thead>\n",
       "    <tr style=\"text-align: right;\">\n",
       "      <th></th>\n",
       "      <th>significant_vars</th>\n",
       "      <th>P-value</th>\n",
       "    </tr>\n",
       "  </thead>\n",
       "  <tbody>\n",
       "    <tr>\n",
       "      <td>0</td>\n",
       "      <td>const</td>\n",
       "      <td>9.155590e-11</td>\n",
       "    </tr>\n",
       "    <tr>\n",
       "      <td>1</td>\n",
       "      <td>duration</td>\n",
       "      <td>0.000000e+00</td>\n",
       "    </tr>\n",
       "    <tr>\n",
       "      <td>2</td>\n",
       "      <td>poutcome_success</td>\n",
       "      <td>3.159872e-232</td>\n",
       "    </tr>\n",
       "    <tr>\n",
       "      <td>3</td>\n",
       "      <td>nr_employed</td>\n",
       "      <td>1.324326e-03</td>\n",
       "    </tr>\n",
       "    <tr>\n",
       "      <td>4</td>\n",
       "      <td>emp_var_rate</td>\n",
       "      <td>1.256240e-108</td>\n",
       "    </tr>\n",
       "    <tr>\n",
       "      <td>5</td>\n",
       "      <td>contact_telephone</td>\n",
       "      <td>3.698435e-24</td>\n",
       "    </tr>\n",
       "    <tr>\n",
       "      <td>6</td>\n",
       "      <td>month_may</td>\n",
       "      <td>5.789870e-214</td>\n",
       "    </tr>\n",
       "    <tr>\n",
       "      <td>7</td>\n",
       "      <td>previous_2</td>\n",
       "      <td>2.563665e-03</td>\n",
       "    </tr>\n",
       "    <tr>\n",
       "      <td>8</td>\n",
       "      <td>default_unknown</td>\n",
       "      <td>9.516933e-18</td>\n",
       "    </tr>\n",
       "    <tr>\n",
       "      <td>9</td>\n",
       "      <td>cons_price_idx</td>\n",
       "      <td>4.301454e-43</td>\n",
       "    </tr>\n",
       "    <tr>\n",
       "      <td>10</td>\n",
       "      <td>month_mar</td>\n",
       "      <td>1.540833e-131</td>\n",
       "    </tr>\n",
       "    <tr>\n",
       "      <td>11</td>\n",
       "      <td>month_oct</td>\n",
       "      <td>3.026038e-05</td>\n",
       "    </tr>\n",
       "    <tr>\n",
       "      <td>12</td>\n",
       "      <td>previous_1</td>\n",
       "      <td>3.032882e-04</td>\n",
       "    </tr>\n",
       "    <tr>\n",
       "      <td>13</td>\n",
       "      <td>cons_conf_idx</td>\n",
       "      <td>2.923592e-27</td>\n",
       "    </tr>\n",
       "    <tr>\n",
       "      <td>14</td>\n",
       "      <td>job_blue-collar</td>\n",
       "      <td>2.245672e-05</td>\n",
       "    </tr>\n",
       "    <tr>\n",
       "      <td>15</td>\n",
       "      <td>job_retired</td>\n",
       "      <td>1.762314e-17</td>\n",
       "    </tr>\n",
       "    <tr>\n",
       "      <td>16</td>\n",
       "      <td>job_student</td>\n",
       "      <td>2.379468e-15</td>\n",
       "    </tr>\n",
       "    <tr>\n",
       "      <td>17</td>\n",
       "      <td>month_dec</td>\n",
       "      <td>1.058264e-06</td>\n",
       "    </tr>\n",
       "    <tr>\n",
       "      <td>18</td>\n",
       "      <td>campaign</td>\n",
       "      <td>2.223117e-19</td>\n",
       "    </tr>\n",
       "    <tr>\n",
       "      <td>19</td>\n",
       "      <td>marital_single</td>\n",
       "      <td>1.407546e-09</td>\n",
       "    </tr>\n",
       "    <tr>\n",
       "      <td>20</td>\n",
       "      <td>education_university.degree</td>\n",
       "      <td>4.534159e-15</td>\n",
       "    </tr>\n",
       "  </tbody>\n",
       "</table>\n",
       "</div>"
      ],
      "text/plain": [
       "               significant_vars        P-value\n",
       "0                         const   9.155590e-11\n",
       "1                      duration   0.000000e+00\n",
       "2              poutcome_success  3.159872e-232\n",
       "3                   nr_employed   1.324326e-03\n",
       "4                  emp_var_rate  1.256240e-108\n",
       "5             contact_telephone   3.698435e-24\n",
       "6                     month_may  5.789870e-214\n",
       "7                    previous_2   2.563665e-03\n",
       "8               default_unknown   9.516933e-18\n",
       "9                cons_price_idx   4.301454e-43\n",
       "10                    month_mar  1.540833e-131\n",
       "11                    month_oct   3.026038e-05\n",
       "12                   previous_1   3.032882e-04\n",
       "13                cons_conf_idx   2.923592e-27\n",
       "14              job_blue-collar   2.245672e-05\n",
       "15                  job_retired   1.762314e-17\n",
       "16                  job_student   2.379468e-15\n",
       "17                    month_dec   1.058264e-06\n",
       "18                     campaign   2.223117e-19\n",
       "19               marital_single   1.407546e-09\n",
       "20  education_university.degree   4.534159e-15"
      ]
     },
     "execution_count": 65,
     "metadata": {},
     "output_type": "execute_result"
    }
   ],
   "source": [
    "sig_var.rename(columns={'index':'significant_vars'}, inplace=True)\n",
    "sig_var"
   ]
  },
  {
   "cell_type": "code",
   "execution_count": 66,
   "metadata": {},
   "outputs": [
    {
     "data": {
      "text/plain": [
       "['const',\n",
       " 'duration',\n",
       " 'poutcome_success',\n",
       " 'nr_employed',\n",
       " 'emp_var_rate',\n",
       " 'contact_telephone',\n",
       " 'month_may',\n",
       " 'previous_2',\n",
       " 'default_unknown',\n",
       " 'cons_price_idx',\n",
       " 'month_mar',\n",
       " 'month_oct',\n",
       " 'previous_1',\n",
       " 'cons_conf_idx',\n",
       " 'job_blue-collar',\n",
       " 'job_retired',\n",
       " 'job_student',\n",
       " 'month_dec',\n",
       " 'campaign',\n",
       " 'marital_single',\n",
       " 'education_university.degree']"
      ]
     },
     "execution_count": 66,
     "metadata": {},
     "output_type": "execute_result"
    }
   ],
   "source": [
    "list(sig_var.significant_vars)"
   ]
  },
  {
   "cell_type": "code",
   "execution_count": 67,
   "metadata": {},
   "outputs": [],
   "source": [
    "X_sm_train=DF.loc[:,['const',\n",
    " 'duration',\n",
    " 'poutcome_success',\n",
    " 'nr_employed',\n",
    " 'emp_var_rate',\n",
    " 'contact_telephone',\n",
    " 'month_may',\n",
    " 'previous_2',\n",
    " 'default_unknown',\n",
    " 'cons_price_idx',\n",
    " 'month_mar',\n",
    " 'month_oct',\n",
    " 'previous_1',\n",
    " 'cons_conf_idx',\n",
    " 'job_blue-collar',\n",
    " 'job_retired',\n",
    " 'job_student',\n",
    " 'month_dec',\n",
    " 'campaign',\n",
    " 'marital_single',\n",
    " 'education_university.degree']]\n",
    "y_sm_train=DF.loc[:,'Target']"
   ]
  },
  {
   "cell_type": "code",
   "execution_count": 68,
   "metadata": {
    "scrolled": false
   },
   "outputs": [
    {
     "name": "stdout",
     "output_type": "stream",
     "text": [
      "              precision    recall  f1-score   support\n",
      "\n",
      "           0       0.98      0.86      0.92     10980\n",
      "           1       0.44      0.88      0.58      1377\n",
      "\n",
      "    accuracy                           0.86     12357\n",
      "   macro avg       0.71      0.87      0.75     12357\n",
      "weighted avg       0.92      0.86      0.88     12357\n",
      "\n"
     ]
    },
    {
     "data": {
      "text/plain": [
       "<matplotlib.legend.Legend at 0x24b2cf0de08>"
      ]
     },
     "execution_count": 68,
     "metadata": {},
     "output_type": "execute_result"
    },
    {
     "data": {
      "image/png": "[encoded data removed]",
      "text/plain": [
       "<Figure size 720x432 with 1 Axes>"
      ]
     },
     "metadata": {
      "needs_background": "light"
     },
     "output_type": "display_data"
    }
   ],
   "source": [
    "smt=SMOTE(random_state=1429, ratio=1, n_jobs=-1)\n",
    "\n",
    "X_sm_train, y_sm_train = smt.fit_sample(X_train, y_train)\n",
    "X_sm_train = pd.DataFrame(data=X_sm_train,columns=X_train.columns )\n",
    "y_sm_train= pd.DataFrame(data=y_sm_train,columns=['Target'])\n",
    "\n",
    "X_sm_train.shape\n",
    "\n",
    "y_sm_train.shape\n",
    "glm.fit(X_sm_train,y_sm_train)\n",
    "psm=glm.predict(X_test)\n",
    "print(classification_report(y_test, psm))\n",
    "\n",
    "fpr, tpr, th=roc_curve(y_test, glm.predict_proba(X_test)[:,1])\n",
    "\n",
    "sns.lineplot(fpr,tpr)\n",
    "sns.lineplot([0,1], [0,1])\n",
    "plt.xlabel(\"False +ve Rate\")\n",
    "plt.ylabel(\"True +ve Rate\")\n",
    "plt.legend(title='AUROC', labels=[np.round(AUC,2)])\n"
   ]
  },
  {
   "cell_type": "code",
   "execution_count": 69,
   "metadata": {},
   "outputs": [
    {
     "data": {
      "text/plain": [
       "Index(['age', 'job', 'marital', 'education', 'default', 'housing', 'loan',\n",
       "       'contact', 'month', 'day_of_week', 'duration', 'campaign', 'pdays',\n",
       "       'previous', 'poutcome', 'emp_var_rate', 'cons_price_idx',\n",
       "       'cons_conf_idx', 'euribor3m', 'nr_employed', 'Target'],\n",
       "      dtype='object')"
      ]
     },
     "execution_count": 69,
     "metadata": {},
     "output_type": "execute_result"
    }
   ],
   "source": [
    "df.columns"
   ]
  },
  {
   "cell_type": "code",
   "execution_count": 70,
   "metadata": {},
   "outputs": [
    {
     "data": {
      "text/plain": [
       "Text(0.5, 33.0, 'Actual')"
      ]
     },
     "execution_count": 70,
     "metadata": {},
     "output_type": "execute_result"
    },
    {
     "data": {
      "image/png": "[encoded data removed]",
      "text/plain": [
       "<Figure size 720x432 with 2 Axes>"
      ]
     },
     "metadata": {
      "needs_background": "light"
     },
     "output_type": "display_data"
    }
   ],
   "source": [
    "cm=confusion_matrix(y_test, psm)\n",
    "ax=sns.heatmap(cm, annot=True,cmap='coolwarm')\n",
    "ax.set_ylim(2,0)\n",
    "plt.xlabel(\"Predicted\")\n",
    "plt.xlabel(\"Actual\")"
   ]
  },
  {
   "cell_type": "code",
   "execution_count": 72,
   "metadata": {},
   "outputs": [],
   "source": [
    "from sklearn.model_selection import StratifiedKFold"
   ]
  },
  {
   "cell_type": "code",
   "execution_count": 73,
   "metadata": {},
   "outputs": [],
   "source": [
    "str_k_fold=StratifiedKFold()"
   ]
  },
  {
   "cell_type": "code",
   "execution_count": 74,
   "metadata": {},
   "outputs": [],
   "source": [
    "rfe=RFECV(glm, cv=str_k_fold, scoring='accuracy', verbose=1, n_jobs=-1)"
   ]
  },
  {
   "cell_type": "code",
   "execution_count": 75,
   "metadata": {},
   "outputs": [
    {
     "data": {
      "text/plain": [
       "RFECV(cv=StratifiedKFold(n_splits=3, random_state=None, shuffle=False),\n",
       "      estimator=LogisticRegression(C=1.0, class_weight=None, dual=False,\n",
       "                                   fit_intercept=True, intercept_scaling=1,\n",
       "                                   l1_ratio=None, max_iter=100,\n",
       "                                   multi_class='warn', n_jobs=None,\n",
       "                                   penalty='l2', random_state=None,\n",
       "                                   solver='warn', tol=0.0001, verbose=0,\n",
       "                                   warm_start=False),\n",
       "      min_features_to_select=1, n_jobs=-1, scoring='accuracy', step=1,\n",
       "      verbose=1)"
      ]
     },
     "execution_count": 75,
     "metadata": {},
     "output_type": "execute_result"
    }
   ],
   "source": [
    "rfe.fit(X_sm_train, y_sm_train)"
   ]
  },
  {
   "cell_type": "code",
   "execution_count": 90,
   "metadata": {},
   "outputs": [
    {
     "data": {
      "text/plain": [
       "([<matplotlib.axis.XTick at 0x24b3ba39d88>,\n",
       "  <matplotlib.axis.XTick at 0x24b3c939248>,\n",
       "  <matplotlib.axis.XTick at 0x24b3ed6b948>,\n",
       "  <matplotlib.axis.XTick at 0x24b3c9c4a48>,\n",
       "  <matplotlib.axis.XTick at 0x24b3eca0408>,\n",
       "  <matplotlib.axis.XTick at 0x24b3ecb1548>,\n",
       "  <matplotlib.axis.XTick at 0x24b3ecb4588>,\n",
       "  <matplotlib.axis.XTick at 0x24b3ecb7548>,\n",
       "  <matplotlib.axis.XTick at 0x24b3ecb9688>,\n",
       "  <matplotlib.axis.XTick at 0x24b3ecb7388>,\n",
       "  <matplotlib.axis.XTick at 0x24b3ec9c548>,\n",
       "  <matplotlib.axis.XTick at 0x24b3ecbb7c8>,\n",
       "  <matplotlib.axis.XTick at 0x24b3ecbe6c8>,\n",
       "  <matplotlib.axis.XTick at 0x24b3ecc2948>,\n",
       "  <matplotlib.axis.XTick at 0x24b3ecc5b88>,\n",
       "  <matplotlib.axis.XTick at 0x24b3ecc8b88>,\n",
       "  <matplotlib.axis.XTick at 0x24b3eccf208>,\n",
       "  <matplotlib.axis.XTick at 0x24b3ecd2648>,\n",
       "  <matplotlib.axis.XTick at 0x24b3ecd4a48>,\n",
       "  <matplotlib.axis.XTick at 0x24b3ecd4748>,\n",
       "  <matplotlib.axis.XTick at 0x24b3ecbbbc8>,\n",
       "  <matplotlib.axis.XTick at 0x24b3ecda548>,\n",
       "  <matplotlib.axis.XTick at 0x24b3ecdc448>,\n",
       "  <matplotlib.axis.XTick at 0x24b3ecdf0c8>,\n",
       "  <matplotlib.axis.XTick at 0x24b3ece2808>],\n",
       " <a list of 25 Text xticklabel objects>)"
      ]
     },
     "execution_count": 90,
     "metadata": {},
     "output_type": "execute_result"
    },
    {
     "data": {
      "image/png": "[encoded data removed]",
      "text/plain": [
       "<Figure size 720x432 with 1 Axes>"
      ]
     },
     "metadata": {
      "needs_background": "light"
     },
     "output_type": "display_data"
    }
   ],
   "source": [
    "sns.lineplot(y=rfe.grid_scores_, x=range(1, len(rfe.grid_scores_)+1))\n",
    "plt.xticks(range(1,len(rfe.grid_scores_)+1,1))"
   ]
  },
  {
   "cell_type": "code",
   "execution_count": 93,
   "metadata": {},
   "outputs": [
    {
     "name": "stdout",
     "output_type": "stream",
     "text": [
      "Index(['duration', 'poutcome_success', 'euribor3m', 'nr_employed',\n",
      "       'poutcome_nonexistent', 'emp_var_rate', 'contact_telephone',\n",
      "       'month_may', 'previous_2', 'default_unknown', 'cons_price_idx',\n",
      "       'month_mar', 'month_oct', 'previous_1', 'cons_conf_idx', 'month_sep',\n",
      "       'job_blue-collar', 'previous_3', 'job_retired', 'job_student',\n",
      "       'month_dec', 'campaign', 'marital_single',\n",
      "       'education_university.degree', 'education_basic.9y'],\n",
      "      dtype='object')\n"
     ]
    },
    {
     "data": {
      "text/plain": [
       "(25,)"
      ]
     },
     "execution_count": 93,
     "metadata": {},
     "output_type": "execute_result"
    }
   ],
   "source": [
    "temp = pd.Series(rfe.support_,index = X_sm_train.columns)\n",
    "selected_features_rfe = temp[temp==True].index\n",
    "print(selected_features_rfe)\n",
    "selected_features_rfe.shape"
   ]
  },
  {
   "cell_type": "code",
   "execution_count": 94,
   "metadata": {},
   "outputs": [
    {
     "data": {
      "text/plain": [
       "(25,)"
      ]
     },
     "execution_count": 94,
     "metadata": {},
     "output_type": "execute_result"
    }
   ],
   "source": [
    "X_sm_train.columns.shape"
   ]
  }
 ],
 "metadata": {
  "kernelspec": {
   "display_name": "Python 3",
   "language": "python",
   "name": "python3"
  },
  "language_info": {
   "codemirror_mode": {
    "name": "ipython",
    "version": 3
   },
   "file_extension": ".py",
   "mimetype": "text/x-python",
   "name": "python",
   "nbconvert_exporter": "python",
   "pygments_lexer": "ipython3",
   "version": "3.7.4"
  }
 },
 "nbformat": 4,
 "nbformat_minor": 2
}
