{
 "cells": [
  {
   "cell_type": "code",
   "execution_count": 1,
   "metadata": {},
   "outputs": [],
   "source": [
    "import pandas as pd\n",
    "import numpy as np\n",
    "import matplotlib.pyplot as plt\n",
    "import seaborn as sns\n",
    "from sklearn.model_selection import train_test_split\n",
    "from sklearn.linear_model import LogisticRegression\n",
    "from sklearn.preprocessing import StandardScaler\n",
    "from statsmodels.stats.outliers_influence import variance_inflation_factor\n",
    "np.random.seed(1429)"
   ]
  },
  {
   "cell_type": "code",
   "execution_count": 2,
   "metadata": {},
   "outputs": [],
   "source": [
    "df=pd.read_csv(\"Banking.csv\")"
   ]
  },
  {
   "cell_type": "code",
   "execution_count": 3,
   "metadata": {},
   "outputs": [
    {
     "data": {
      "text/html": [
       "<div>\n",
       "<style scoped>\n",
       "    .dataframe tbody tr th:only-of-type {\n",
       "        vertical-align: middle;\n",
       "    }\n",
       "\n",
       "    .dataframe tbody tr th {\n",
       "        vertical-align: top;\n",
       "    }\n",
       "\n",
       "    .dataframe thead th {\n",
       "        text-align: right;\n",
       "    }\n",
       "</style>\n",
       "<table border=\"1\" class=\"dataframe\">\n",
       "  <thead>\n",
       "    <tr style=\"text-align: right;\">\n",
       "      <th></th>\n",
       "      <th>age</th>\n",
       "      <th>job</th>\n",
       "      <th>marital</th>\n",
       "      <th>education</th>\n",
       "      <th>default</th>\n",
       "      <th>housing</th>\n",
       "      <th>loan</th>\n",
       "      <th>contact</th>\n",
       "      <th>month</th>\n",
       "      <th>day_of_week</th>\n",
       "      <th>...</th>\n",
       "      <th>campaign</th>\n",
       "      <th>pdays</th>\n",
       "      <th>previous</th>\n",
       "      <th>poutcome</th>\n",
       "      <th>emp_var_rate</th>\n",
       "      <th>cons_price_idx</th>\n",
       "      <th>cons_conf_idx</th>\n",
       "      <th>euribor3m</th>\n",
       "      <th>nr_employed</th>\n",
       "      <th>y</th>\n",
       "    </tr>\n",
       "  </thead>\n",
       "  <tbody>\n",
       "    <tr>\n",
       "      <td>0</td>\n",
       "      <td>44</td>\n",
       "      <td>blue-collar</td>\n",
       "      <td>married</td>\n",
       "      <td>basic.4y</td>\n",
       "      <td>unknown</td>\n",
       "      <td>yes</td>\n",
       "      <td>no</td>\n",
       "      <td>cellular</td>\n",
       "      <td>aug</td>\n",
       "      <td>thu</td>\n",
       "      <td>...</td>\n",
       "      <td>1</td>\n",
       "      <td>999</td>\n",
       "      <td>0</td>\n",
       "      <td>nonexistent</td>\n",
       "      <td>1.4</td>\n",
       "      <td>93.444</td>\n",
       "      <td>-36.1</td>\n",
       "      <td>4.963</td>\n",
       "      <td>5228.1</td>\n",
       "      <td>0</td>\n",
       "    </tr>\n",
       "    <tr>\n",
       "      <td>1</td>\n",
       "      <td>53</td>\n",
       "      <td>technician</td>\n",
       "      <td>married</td>\n",
       "      <td>unknown</td>\n",
       "      <td>no</td>\n",
       "      <td>no</td>\n",
       "      <td>no</td>\n",
       "      <td>cellular</td>\n",
       "      <td>nov</td>\n",
       "      <td>fri</td>\n",
       "      <td>...</td>\n",
       "      <td>1</td>\n",
       "      <td>999</td>\n",
       "      <td>0</td>\n",
       "      <td>nonexistent</td>\n",
       "      <td>-0.1</td>\n",
       "      <td>93.200</td>\n",
       "      <td>-42.0</td>\n",
       "      <td>4.021</td>\n",
       "      <td>5195.8</td>\n",
       "      <td>0</td>\n",
       "    </tr>\n",
       "    <tr>\n",
       "      <td>2</td>\n",
       "      <td>28</td>\n",
       "      <td>management</td>\n",
       "      <td>single</td>\n",
       "      <td>university.degree</td>\n",
       "      <td>no</td>\n",
       "      <td>yes</td>\n",
       "      <td>no</td>\n",
       "      <td>cellular</td>\n",
       "      <td>jun</td>\n",
       "      <td>thu</td>\n",
       "      <td>...</td>\n",
       "      <td>3</td>\n",
       "      <td>6</td>\n",
       "      <td>2</td>\n",
       "      <td>success</td>\n",
       "      <td>-1.7</td>\n",
       "      <td>94.055</td>\n",
       "      <td>-39.8</td>\n",
       "      <td>0.729</td>\n",
       "      <td>4991.6</td>\n",
       "      <td>1</td>\n",
       "    </tr>\n",
       "    <tr>\n",
       "      <td>3</td>\n",
       "      <td>39</td>\n",
       "      <td>services</td>\n",
       "      <td>married</td>\n",
       "      <td>high.school</td>\n",
       "      <td>no</td>\n",
       "      <td>no</td>\n",
       "      <td>no</td>\n",
       "      <td>cellular</td>\n",
       "      <td>apr</td>\n",
       "      <td>fri</td>\n",
       "      <td>...</td>\n",
       "      <td>2</td>\n",
       "      <td>999</td>\n",
       "      <td>0</td>\n",
       "      <td>nonexistent</td>\n",
       "      <td>-1.8</td>\n",
       "      <td>93.075</td>\n",
       "      <td>-47.1</td>\n",
       "      <td>1.405</td>\n",
       "      <td>5099.1</td>\n",
       "      <td>0</td>\n",
       "    </tr>\n",
       "    <tr>\n",
       "      <td>4</td>\n",
       "      <td>55</td>\n",
       "      <td>retired</td>\n",
       "      <td>married</td>\n",
       "      <td>basic.4y</td>\n",
       "      <td>no</td>\n",
       "      <td>yes</td>\n",
       "      <td>no</td>\n",
       "      <td>cellular</td>\n",
       "      <td>aug</td>\n",
       "      <td>fri</td>\n",
       "      <td>...</td>\n",
       "      <td>1</td>\n",
       "      <td>3</td>\n",
       "      <td>1</td>\n",
       "      <td>success</td>\n",
       "      <td>-2.9</td>\n",
       "      <td>92.201</td>\n",
       "      <td>-31.4</td>\n",
       "      <td>0.869</td>\n",
       "      <td>5076.2</td>\n",
       "      <td>1</td>\n",
       "    </tr>\n",
       "  </tbody>\n",
       "</table>\n",
       "<p>5 rows × 21 columns</p>\n",
       "</div>"
      ],
      "text/plain": [
       "   age          job  marital          education  default housing loan  \\\n",
       "0   44  blue-collar  married           basic.4y  unknown     yes   no   \n",
       "1   53   technician  married            unknown       no      no   no   \n",
       "2   28   management   single  university.degree       no     yes   no   \n",
       "3   39     services  married        high.school       no      no   no   \n",
       "4   55      retired  married           basic.4y       no     yes   no   \n",
       "\n",
       "    contact month day_of_week  ...  campaign  pdays  previous     poutcome  \\\n",
       "0  cellular   aug         thu  ...         1    999         0  nonexistent   \n",
       "1  cellular   nov         fri  ...         1    999         0  nonexistent   \n",
       "2  cellular   jun         thu  ...         3      6         2      success   \n",
       "3  cellular   apr         fri  ...         2    999         0  nonexistent   \n",
       "4  cellular   aug         fri  ...         1      3         1      success   \n",
       "\n",
       "  emp_var_rate  cons_price_idx  cons_conf_idx  euribor3m  nr_employed  y  \n",
       "0          1.4          93.444          -36.1      4.963       5228.1  0  \n",
       "1         -0.1          93.200          -42.0      4.021       5195.8  0  \n",
       "2         -1.7          94.055          -39.8      0.729       4991.6  1  \n",
       "3         -1.8          93.075          -47.1      1.405       5099.1  0  \n",
       "4         -2.9          92.201          -31.4      0.869       5076.2  1  \n",
       "\n",
       "[5 rows x 21 columns]"
      ]
     },
     "execution_count": 3,
     "metadata": {},
     "output_type": "execute_result"
    }
   ],
   "source": [
    "df.head()"
   ]
  },
  {
   "cell_type": "code",
   "execution_count": 4,
   "metadata": {},
   "outputs": [],
   "source": [
    "df[\"Target\"]=df.y"
   ]
  },
  {
   "cell_type": "code",
   "execution_count": 5,
   "metadata": {},
   "outputs": [],
   "source": [
    "df=df.drop(\"y\", axis=1)"
   ]
  },
  {
   "cell_type": "code",
   "execution_count": 6,
   "metadata": {},
   "outputs": [],
   "source": [
    "# import packages\n",
    "import pandas as pd\n",
    "import numpy as np\n",
    "import pandas.core.algorithms as algos\n",
    "from pandas import Series\n",
    "import scipy.stats.stats as stats\n",
    "import re\n",
    "import traceback\n",
    "import string\n",
    "#to find information values strictly for binary response and logistic regression\n",
    "max_bin = 20\n",
    "force_bin = 3\n",
    "\n",
    "# define a binning function\n",
    "def mono_bin(Y, X, n = max_bin):\n",
    "    \n",
    "    df1 = pd.DataFrame({\"X\": X, \"Y\": Y})\n",
    "    justmiss = df1[['X','Y']][df1.X.isnull()]\n",
    "    notmiss = df1[['X','Y']][df1.X.notnull()]\n",
    "    r = 0\n",
    "    while np.abs(r) < 1:\n",
    "        try:\n",
    "            d1 = pd.DataFrame({\"X\": notmiss.X, \"Y\": notmiss.Y, \"Bucket\": pd.qcut(notmiss.X, n)})\n",
    "            d2 = d1.groupby('Bucket', as_index=True)\n",
    "            r, p = stats.spearmanr(d2.mean().X, d2.mean().Y)\n",
    "            n = n - 1 \n",
    "        except Exception as e:\n",
    "            n = n - 1\n",
    "\n",
    "    if len(d2) == 1:\n",
    "        n = force_bin         \n",
    "        bins = algos.quantile(notmiss.X, np.linspace(0, 1, n))\n",
    "        if len(np.unique(bins)) == 2:\n",
    "            bins = np.insert(bins, 0, 1)\n",
    "            bins[1] = bins[1]-(bins[1]/2)\n",
    "        d1 = pd.DataFrame({\"X\": notmiss.X, \"Y\": notmiss.Y, \"Bucket\": pd.cut(notmiss.X, np.unique(bins),include_lowest=True)}) \n",
    "        d2 = d1.groupby('Bucket', as_index=True)\n",
    "    \n",
    "    d3 = pd.DataFrame({},index=[])\n",
    "    d3[\"MIN_VALUE\"] = d2.min().X\n",
    "    d3[\"MAX_VALUE\"] = d2.max().X\n",
    "    d3[\"COUNT\"] = d2.count().Y\n",
    "    d3[\"EVENT\"] = d2.sum().Y\n",
    "    d3[\"NONEVENT\"] = d2.count().Y - d2.sum().Y\n",
    "    d3=d3.reset_index(drop=True)\n",
    "    \n",
    "    if len(justmiss.index) > 0:\n",
    "        d4 = pd.DataFrame({'MIN_VALUE':np.nan},index=[0])\n",
    "        d4[\"MAX_VALUE\"] = np.nan\n",
    "        d4[\"COUNT\"] = justmiss.count().Y\n",
    "        d4[\"EVENT\"] = justmiss.sum().Y\n",
    "        d4[\"NONEVENT\"] = justmiss.count().Y - justmiss.sum().Y\n",
    "        d3 = d3.append(d4,ignore_index=True)\n",
    "    \n",
    "    d3[\"EVENT_RATE\"] = d3.EVENT/d3.COUNT\n",
    "    d3[\"NON_EVENT_RATE\"] = d3.NONEVENT/d3.COUNT\n",
    "    d3[\"DIST_EVENT\"] = d3.EVENT/d3.sum().EVENT\n",
    "    d3[\"DIST_NON_EVENT\"] = d3.NONEVENT/d3.sum().NONEVENT\n",
    "    d3[\"WOE\"] = np.log(d3.DIST_EVENT/d3.DIST_NON_EVENT)\n",
    "    d3[\"IV\"] = (d3.DIST_EVENT-d3.DIST_NON_EVENT)*np.log(d3.DIST_EVENT/d3.DIST_NON_EVENT)\n",
    "    d3[\"VAR_NAME\"] = \"VAR\"\n",
    "    d3 = d3[['VAR_NAME','MIN_VALUE', 'MAX_VALUE', 'COUNT', 'EVENT', 'EVENT_RATE', 'NONEVENT', 'NON_EVENT_RATE', 'DIST_EVENT','DIST_NON_EVENT','WOE', 'IV']]       \n",
    "    d3 = d3.replace([np.inf, -np.inf], 0)\n",
    "    d3.IV = d3.IV.sum()\n",
    "    \n",
    "    return(d3)\n",
    "\n",
    "def char_bin(Y, X):\n",
    "        \n",
    "    df1 = pd.DataFrame({\"X\": X, \"Y\": Y})\n",
    "    justmiss = df1[['X','Y']][df1.X.isnull()]\n",
    "    notmiss = df1[['X','Y']][df1.X.notnull()]    \n",
    "    df2 = notmiss.groupby('X',as_index=True)\n",
    "    \n",
    "    d3 = pd.DataFrame({},index=[])\n",
    "    d3[\"COUNT\"] = df2.count().Y\n",
    "    d3[\"MIN_VALUE\"] = df2.sum().Y.index\n",
    "    d3[\"MAX_VALUE\"] = d3[\"MIN_VALUE\"]\n",
    "    d3[\"EVENT\"] = df2.sum().Y\n",
    "    d3[\"NONEVENT\"] = df2.count().Y - df2.sum().Y\n",
    "    \n",
    "    if len(justmiss.index) > 0:\n",
    "        d4 = pd.DataFrame({'MIN_VALUE':np.nan},index=[0])\n",
    "        d4[\"MAX_VALUE\"] = np.nan\n",
    "        d4[\"COUNT\"] = justmiss.count().Y\n",
    "        d4[\"EVENT\"] = justmiss.sum().Y\n",
    "        d4[\"NONEVENT\"] = justmiss.count().Y - justmiss.sum().Y\n",
    "        d3 = d3.append(d4,ignore_index=True)\n",
    "    \n",
    "    d3[\"EVENT_RATE\"] = d3.EVENT/d3.COUNT\n",
    "    d3[\"NON_EVENT_RATE\"] = d3.NONEVENT/d3.COUNT\n",
    "    d3[\"DIST_EVENT\"] = d3.EVENT/d3.sum().EVENT\n",
    "    d3[\"DIST_NON_EVENT\"] = d3.NONEVENT/d3.sum().NONEVENT\n",
    "    d3[\"WOE\"] = np.log(d3.DIST_EVENT/d3.DIST_NON_EVENT)\n",
    "    d3[\"IV\"] = (d3.DIST_EVENT-d3.DIST_NON_EVENT)*np.log(d3.DIST_EVENT/d3.DIST_NON_EVENT)\n",
    "    d3[\"VAR_NAME\"] = \"VAR\"\n",
    "    d3 = d3[['VAR_NAME','MIN_VALUE', 'MAX_VALUE', 'COUNT', 'EVENT', 'EVENT_RATE', 'NONEVENT', 'NON_EVENT_RATE', 'DIST_EVENT','DIST_NON_EVENT','WOE', 'IV']]      \n",
    "    d3 = d3.replace([np.inf, -np.inf], 0)\n",
    "    d3.IV = d3.IV.sum()\n",
    "    d3 = d3.reset_index(drop=True)\n",
    "    \n",
    "    return(d3)\n",
    "\n",
    "def data_vars(df1, target):\n",
    "    \n",
    "    stack = traceback.extract_stack()\n",
    "    filename, lineno, function_name, code = stack[-2]\n",
    "    vars_name = re.compile(r'\\((.*?)\\).*$').search(code).groups()[0]\n",
    "    final = (re.findall(r\"[\\w']+\", vars_name))[-1]\n",
    "    \n",
    "    x = df1.dtypes.index\n",
    "    count = -1\n",
    "    \n",
    "    for i in x:\n",
    "        if i.upper() not in (final.upper()):\n",
    "            if np.issubdtype(df1[i], np.number) and len(Series.unique(df1[i])) > 2:\n",
    "                conv = mono_bin(target, df1[i])\n",
    "                conv[\"VAR_NAME\"] = i\n",
    "                count = count + 1\n",
    "            else:\n",
    "                conv = char_bin(target, df1[i])\n",
    "                conv[\"VAR_NAME\"] = i            \n",
    "                count = count + 1\n",
    "                \n",
    "            if count == 0:\n",
    "                iv_df = conv\n",
    "            else:\n",
    "                iv_df = iv_df.append(conv,ignore_index=True)\n",
    "    \n",
    "    iv = pd.DataFrame({'IV':iv_df.groupby('VAR_NAME').IV.max()})\n",
    "    iv = iv.reset_index()\n",
    "    return(iv_df,iv)"
   ]
  },
  {
   "cell_type": "code",
   "execution_count": 7,
   "metadata": {},
   "outputs": [
    {
     "name": "stderr",
     "output_type": "stream",
     "text": [
      "C:\\Users\\bishw\\Anaconda3\\lib\\site-packages\\pandas\\core\\series.py:853: RuntimeWarning: divide by zero encountered in log\n",
      "  result = getattr(ufunc, method)(*inputs, **kwargs)\n"
     ]
    },
    {
     "data": {
      "text/html": [
       "<div>\n",
       "<style scoped>\n",
       "    .dataframe tbody tr th:only-of-type {\n",
       "        vertical-align: middle;\n",
       "    }\n",
       "\n",
       "    .dataframe tbody tr th {\n",
       "        vertical-align: top;\n",
       "    }\n",
       "\n",
       "    .dataframe thead th {\n",
       "        text-align: right;\n",
       "    }\n",
       "</style>\n",
       "<table border=\"1\" class=\"dataframe\">\n",
       "  <thead>\n",
       "    <tr style=\"text-align: right;\">\n",
       "      <th></th>\n",
       "      <th>VAR_NAME</th>\n",
       "      <th>MIN_VALUE</th>\n",
       "      <th>MAX_VALUE</th>\n",
       "      <th>COUNT</th>\n",
       "      <th>EVENT</th>\n",
       "      <th>EVENT_RATE</th>\n",
       "      <th>NONEVENT</th>\n",
       "      <th>NON_EVENT_RATE</th>\n",
       "      <th>DIST_EVENT</th>\n",
       "      <th>DIST_NON_EVENT</th>\n",
       "      <th>WOE</th>\n",
       "      <th>IV</th>\n",
       "    </tr>\n",
       "  </thead>\n",
       "  <tbody>\n",
       "    <tr>\n",
       "      <td>0</td>\n",
       "      <td>age</td>\n",
       "      <td>17</td>\n",
       "      <td>38</td>\n",
       "      <td>21175</td>\n",
       "      <td>2523</td>\n",
       "      <td>0.119150</td>\n",
       "      <td>18652</td>\n",
       "      <td>0.880850</td>\n",
       "      <td>0.543750</td>\n",
       "      <td>0.510343</td>\n",
       "      <td>0.063407</td>\n",
       "      <td>0.004479</td>\n",
       "    </tr>\n",
       "    <tr>\n",
       "      <td>1</td>\n",
       "      <td>age</td>\n",
       "      <td>39</td>\n",
       "      <td>98</td>\n",
       "      <td>20013</td>\n",
       "      <td>2117</td>\n",
       "      <td>0.105781</td>\n",
       "      <td>17896</td>\n",
       "      <td>0.894219</td>\n",
       "      <td>0.456250</td>\n",
       "      <td>0.489657</td>\n",
       "      <td>-0.070665</td>\n",
       "      <td>0.004479</td>\n",
       "    </tr>\n",
       "    <tr>\n",
       "      <td>2</td>\n",
       "      <td>job</td>\n",
       "      <td>admin.</td>\n",
       "      <td>admin.</td>\n",
       "      <td>10422</td>\n",
       "      <td>1352</td>\n",
       "      <td>0.129726</td>\n",
       "      <td>9070</td>\n",
       "      <td>0.870274</td>\n",
       "      <td>0.291379</td>\n",
       "      <td>0.248167</td>\n",
       "      <td>0.160525</td>\n",
       "      <td>0.188713</td>\n",
       "    </tr>\n",
       "    <tr>\n",
       "      <td>3</td>\n",
       "      <td>job</td>\n",
       "      <td>blue-collar</td>\n",
       "      <td>blue-collar</td>\n",
       "      <td>9254</td>\n",
       "      <td>638</td>\n",
       "      <td>0.068943</td>\n",
       "      <td>8616</td>\n",
       "      <td>0.931057</td>\n",
       "      <td>0.137500</td>\n",
       "      <td>0.235745</td>\n",
       "      <td>-0.539126</td>\n",
       "      <td>0.188713</td>\n",
       "    </tr>\n",
       "    <tr>\n",
       "      <td>4</td>\n",
       "      <td>job</td>\n",
       "      <td>entrepreneur</td>\n",
       "      <td>entrepreneur</td>\n",
       "      <td>1456</td>\n",
       "      <td>124</td>\n",
       "      <td>0.085165</td>\n",
       "      <td>1332</td>\n",
       "      <td>0.914835</td>\n",
       "      <td>0.026724</td>\n",
       "      <td>0.036445</td>\n",
       "      <td>-0.310243</td>\n",
       "      <td>0.188713</td>\n",
       "    </tr>\n",
       "    <tr>\n",
       "      <td>...</td>\n",
       "      <td>...</td>\n",
       "      <td>...</td>\n",
       "      <td>...</td>\n",
       "      <td>...</td>\n",
       "      <td>...</td>\n",
       "      <td>...</td>\n",
       "      <td>...</td>\n",
       "      <td>...</td>\n",
       "      <td>...</td>\n",
       "      <td>...</td>\n",
       "      <td>...</td>\n",
       "      <td>...</td>\n",
       "    </tr>\n",
       "    <tr>\n",
       "      <td>87</td>\n",
       "      <td>cons_conf_idx</td>\n",
       "      <td>-40.8</td>\n",
       "      <td>-26.9</td>\n",
       "      <td>17637</td>\n",
       "      <td>2611</td>\n",
       "      <td>0.148041</td>\n",
       "      <td>15026</td>\n",
       "      <td>0.851959</td>\n",
       "      <td>0.562716</td>\n",
       "      <td>0.411131</td>\n",
       "      <td>0.313863</td>\n",
       "      <td>0.092692</td>\n",
       "    </tr>\n",
       "    <tr>\n",
       "      <td>88</td>\n",
       "      <td>euribor3m</td>\n",
       "      <td>0.634</td>\n",
       "      <td>4.857</td>\n",
       "      <td>22055</td>\n",
       "      <td>3626</td>\n",
       "      <td>0.164407</td>\n",
       "      <td>18429</td>\n",
       "      <td>0.835593</td>\n",
       "      <td>0.781466</td>\n",
       "      <td>0.504241</td>\n",
       "      <td>0.438117</td>\n",
       "      <td>0.348544</td>\n",
       "    </tr>\n",
       "    <tr>\n",
       "      <td>89</td>\n",
       "      <td>euribor3m</td>\n",
       "      <td>4.858</td>\n",
       "      <td>5.045</td>\n",
       "      <td>19133</td>\n",
       "      <td>1014</td>\n",
       "      <td>0.052997</td>\n",
       "      <td>18119</td>\n",
       "      <td>0.947003</td>\n",
       "      <td>0.218534</td>\n",
       "      <td>0.495759</td>\n",
       "      <td>-0.819146</td>\n",
       "      <td>0.348544</td>\n",
       "    </tr>\n",
       "    <tr>\n",
       "      <td>90</td>\n",
       "      <td>nr_employed</td>\n",
       "      <td>4963.6</td>\n",
       "      <td>5191</td>\n",
       "      <td>21271</td>\n",
       "      <td>3542</td>\n",
       "      <td>0.166518</td>\n",
       "      <td>17729</td>\n",
       "      <td>0.833482</td>\n",
       "      <td>0.763362</td>\n",
       "      <td>0.485088</td>\n",
       "      <td>0.453402</td>\n",
       "      <td>0.342518</td>\n",
       "    </tr>\n",
       "    <tr>\n",
       "      <td>91</td>\n",
       "      <td>nr_employed</td>\n",
       "      <td>5195.8</td>\n",
       "      <td>5228.1</td>\n",
       "      <td>19917</td>\n",
       "      <td>1098</td>\n",
       "      <td>0.055129</td>\n",
       "      <td>18819</td>\n",
       "      <td>0.944871</td>\n",
       "      <td>0.236638</td>\n",
       "      <td>0.514912</td>\n",
       "      <td>-0.777465</td>\n",
       "      <td>0.342518</td>\n",
       "    </tr>\n",
       "  </tbody>\n",
       "</table>\n",
       "<p>92 rows × 12 columns</p>\n",
       "</div>"
      ],
      "text/plain": [
       "         VAR_NAME     MIN_VALUE     MAX_VALUE  COUNT  EVENT  EVENT_RATE  \\\n",
       "0             age            17            38  21175   2523    0.119150   \n",
       "1             age            39            98  20013   2117    0.105781   \n",
       "2             job        admin.        admin.  10422   1352    0.129726   \n",
       "3             job   blue-collar   blue-collar   9254    638    0.068943   \n",
       "4             job  entrepreneur  entrepreneur   1456    124    0.085165   \n",
       "..            ...           ...           ...    ...    ...         ...   \n",
       "87  cons_conf_idx         -40.8         -26.9  17637   2611    0.148041   \n",
       "88      euribor3m         0.634         4.857  22055   3626    0.164407   \n",
       "89      euribor3m         4.858         5.045  19133   1014    0.052997   \n",
       "90    nr_employed        4963.6          5191  21271   3542    0.166518   \n",
       "91    nr_employed        5195.8        5228.1  19917   1098    0.055129   \n",
       "\n",
       "    NONEVENT  NON_EVENT_RATE  DIST_EVENT  DIST_NON_EVENT       WOE        IV  \n",
       "0      18652        0.880850    0.543750        0.510343  0.063407  0.004479  \n",
       "1      17896        0.894219    0.456250        0.489657 -0.070665  0.004479  \n",
       "2       9070        0.870274    0.291379        0.248167  0.160525  0.188713  \n",
       "3       8616        0.931057    0.137500        0.235745 -0.539126  0.188713  \n",
       "4       1332        0.914835    0.026724        0.036445 -0.310243  0.188713  \n",
       "..       ...             ...         ...             ...       ...       ...  \n",
       "87     15026        0.851959    0.562716        0.411131  0.313863  0.092692  \n",
       "88     18429        0.835593    0.781466        0.504241  0.438117  0.348544  \n",
       "89     18119        0.947003    0.218534        0.495759 -0.819146  0.348544  \n",
       "90     17729        0.833482    0.763362        0.485088  0.453402  0.342518  \n",
       "91     18819        0.944871    0.236638        0.514912 -0.777465  0.342518  \n",
       "\n",
       "[92 rows x 12 columns]"
      ]
     },
     "execution_count": 7,
     "metadata": {},
     "output_type": "execute_result"
    }
   ],
   "source": [
    "final_iv, IV = data_vars(df,df.Target)\n",
    "final_iv"
   ]
  },
  {
   "cell_type": "code",
   "execution_count": 8,
   "metadata": {},
   "outputs": [],
   "source": [
    "IV=IV.sort_values(\"IV\",ascending=False)\n",
    "IV=IV[IV.IV>=0.02]"
   ]
  },
  {
   "cell_type": "code",
   "execution_count": 9,
   "metadata": {},
   "outputs": [
    {
     "data": {
      "text/plain": [
       "[Text(0, 0, 'duration'),\n",
       " Text(0, 0, 'poutcome'),\n",
       " Text(0, 0, 'month'),\n",
       " Text(0, 0, 'euribor3m'),\n",
       " Text(0, 0, 'nr_employed'),\n",
       " Text(0, 0, 'emp_var_rate'),\n",
       " Text(0, 0, 'contact'),\n",
       " Text(0, 0, 'previous'),\n",
       " Text(0, 0, 'job'),\n",
       " Text(0, 0, 'default'),\n",
       " Text(0, 0, 'cons_price_idx'),\n",
       " Text(0, 0, 'cons_conf_idx'),\n",
       " Text(0, 0, 'education'),\n",
       " Text(0, 0, 'campaign'),\n",
       " Text(0, 0, 'marital')]"
      ]
     },
     "execution_count": 9,
     "metadata": {},
     "output_type": "execute_result"
    },
    {
     "data": {
      "image/png": "[encoded data removed]",
      "text/plain": [
       "<Figure size 1152x432 with 1 Axes>"
      ]
     },
     "metadata": {
      "needs_background": "light"
     },
     "output_type": "display_data"
    }
   ],
   "source": [
    "plt.figure(figsize=(16, 6))\n",
    "ax=sns.barplot(x=\"VAR_NAME\", y=\"IV\",data=IV)\n",
    "ax.set_xticklabels(ax.get_xticklabels(), rotation=45)"
   ]
  },
  {
   "cell_type": "code",
   "execution_count": 10,
   "metadata": {},
   "outputs": [
    {
     "data": {
      "text/html": [
       "<div>\n",
       "<style scoped>\n",
       "    .dataframe tbody tr th:only-of-type {\n",
       "        vertical-align: middle;\n",
       "    }\n",
       "\n",
       "    .dataframe tbody tr th {\n",
       "        vertical-align: top;\n",
       "    }\n",
       "\n",
       "    .dataframe thead th {\n",
       "        text-align: right;\n",
       "    }\n",
       "</style>\n",
       "<table border=\"1\" class=\"dataframe\">\n",
       "  <thead>\n",
       "    <tr style=\"text-align: right;\">\n",
       "      <th></th>\n",
       "      <th>VAR_NAME</th>\n",
       "      <th>IV</th>\n",
       "    </tr>\n",
       "  </thead>\n",
       "  <tbody>\n",
       "    <tr>\n",
       "      <td>7</td>\n",
       "      <td>duration</td>\n",
       "      <td>1.625228</td>\n",
       "    </tr>\n",
       "    <tr>\n",
       "      <td>18</td>\n",
       "      <td>poutcome</td>\n",
       "      <td>0.547671</td>\n",
       "    </tr>\n",
       "    <tr>\n",
       "      <td>15</td>\n",
       "      <td>month</td>\n",
       "      <td>0.485117</td>\n",
       "    </tr>\n",
       "    <tr>\n",
       "      <td>10</td>\n",
       "      <td>euribor3m</td>\n",
       "      <td>0.348544</td>\n",
       "    </tr>\n",
       "    <tr>\n",
       "      <td>16</td>\n",
       "      <td>nr_employed</td>\n",
       "      <td>0.342518</td>\n",
       "    </tr>\n",
       "    <tr>\n",
       "      <td>9</td>\n",
       "      <td>emp_var_rate</td>\n",
       "      <td>0.269217</td>\n",
       "    </tr>\n",
       "    <tr>\n",
       "      <td>4</td>\n",
       "      <td>contact</td>\n",
       "      <td>0.251663</td>\n",
       "    </tr>\n",
       "    <tr>\n",
       "      <td>19</td>\n",
       "      <td>previous</td>\n",
       "      <td>0.217318</td>\n",
       "    </tr>\n",
       "    <tr>\n",
       "      <td>12</td>\n",
       "      <td>job</td>\n",
       "      <td>0.188713</td>\n",
       "    </tr>\n",
       "    <tr>\n",
       "      <td>6</td>\n",
       "      <td>default</td>\n",
       "      <td>0.127769</td>\n",
       "    </tr>\n",
       "    <tr>\n",
       "      <td>3</td>\n",
       "      <td>cons_price_idx</td>\n",
       "      <td>0.126759</td>\n",
       "    </tr>\n",
       "    <tr>\n",
       "      <td>2</td>\n",
       "      <td>cons_conf_idx</td>\n",
       "      <td>0.092692</td>\n",
       "    </tr>\n",
       "    <tr>\n",
       "      <td>8</td>\n",
       "      <td>education</td>\n",
       "      <td>0.048576</td>\n",
       "    </tr>\n",
       "    <tr>\n",
       "      <td>1</td>\n",
       "      <td>campaign</td>\n",
       "      <td>0.032316</td>\n",
       "    </tr>\n",
       "    <tr>\n",
       "      <td>14</td>\n",
       "      <td>marital</td>\n",
       "      <td>0.028215</td>\n",
       "    </tr>\n",
       "  </tbody>\n",
       "</table>\n",
       "</div>"
      ],
      "text/plain": [
       "          VAR_NAME        IV\n",
       "7         duration  1.625228\n",
       "18        poutcome  0.547671\n",
       "15           month  0.485117\n",
       "10       euribor3m  0.348544\n",
       "16     nr_employed  0.342518\n",
       "9     emp_var_rate  0.269217\n",
       "4          contact  0.251663\n",
       "19        previous  0.217318\n",
       "12             job  0.188713\n",
       "6          default  0.127769\n",
       "3   cons_price_idx  0.126759\n",
       "2    cons_conf_idx  0.092692\n",
       "8        education  0.048576\n",
       "1         campaign  0.032316\n",
       "14         marital  0.028215"
      ]
     },
     "execution_count": 10,
     "metadata": {},
     "output_type": "execute_result"
    }
   ],
   "source": [
    "IV"
   ]
  },
  {
   "cell_type": "code",
   "execution_count": 11,
   "metadata": {},
   "outputs": [
    {
     "data": {
      "text/plain": [
       "Index(['age', 'job', 'marital', 'education', 'default', 'housing', 'loan',\n",
       "       'contact', 'month', 'day_of_week', 'duration', 'campaign', 'pdays',\n",
       "       'previous', 'poutcome', 'emp_var_rate', 'cons_price_idx',\n",
       "       'cons_conf_idx', 'euribor3m', 'nr_employed', 'Target'],\n",
       "      dtype='object')"
      ]
     },
     "execution_count": 11,
     "metadata": {},
     "output_type": "execute_result"
    }
   ],
   "source": [
    "df.columns"
   ]
  },
  {
   "cell_type": "code",
   "execution_count": 12,
   "metadata": {},
   "outputs": [],
   "source": [
    "df=df.loc[:,['duration',\n",
    " 'poutcome',\n",
    " 'month',\n",
    " 'euribor3m',\n",
    " 'nr_employed',\n",
    " 'emp_var_rate',\n",
    " 'contact',\n",
    " 'previous',\n",
    " 'job',\n",
    " 'default',\n",
    " 'cons_price_idx',\n",
    " 'cons_conf_idx',\n",
    " 'education',\n",
    " 'campaign',\n",
    " 'marital','Target']]"
   ]
  },
  {
   "cell_type": "code",
   "execution_count": 13,
   "metadata": {},
   "outputs": [
    {
     "data": {
      "text/plain": [
       "['duration',\n",
       " 'poutcome',\n",
       " 'month',\n",
       " 'euribor3m',\n",
       " 'nr_employed',\n",
       " 'emp_var_rate',\n",
       " 'contact',\n",
       " 'previous',\n",
       " 'job',\n",
       " 'default',\n",
       " 'cons_price_idx',\n",
       " 'cons_conf_idx',\n",
       " 'education',\n",
       " 'campaign',\n",
       " 'marital']"
      ]
     },
     "execution_count": 13,
     "metadata": {},
     "output_type": "execute_result"
    }
   ],
   "source": [
    "list(IV.VAR_NAME)"
   ]
  },
  {
   "cell_type": "code",
   "execution_count": 14,
   "metadata": {},
   "outputs": [
    {
     "data": {
      "text/html": [
       "<div>\n",
       "<style scoped>\n",
       "    .dataframe tbody tr th:only-of-type {\n",
       "        vertical-align: middle;\n",
       "    }\n",
       "\n",
       "    .dataframe tbody tr th {\n",
       "        vertical-align: top;\n",
       "    }\n",
       "\n",
       "    .dataframe thead th {\n",
       "        text-align: right;\n",
       "    }\n",
       "</style>\n",
       "<table border=\"1\" class=\"dataframe\">\n",
       "  <thead>\n",
       "    <tr style=\"text-align: right;\">\n",
       "      <th></th>\n",
       "      <th>duration</th>\n",
       "      <th>poutcome</th>\n",
       "      <th>month</th>\n",
       "      <th>euribor3m</th>\n",
       "      <th>nr_employed</th>\n",
       "      <th>emp_var_rate</th>\n",
       "      <th>contact</th>\n",
       "      <th>previous</th>\n",
       "      <th>job</th>\n",
       "      <th>default</th>\n",
       "      <th>cons_price_idx</th>\n",
       "      <th>cons_conf_idx</th>\n",
       "      <th>education</th>\n",
       "      <th>campaign</th>\n",
       "      <th>marital</th>\n",
       "      <th>Target</th>\n",
       "    </tr>\n",
       "  </thead>\n",
       "  <tbody>\n",
       "    <tr>\n",
       "      <td>0</td>\n",
       "      <td>210</td>\n",
       "      <td>nonexistent</td>\n",
       "      <td>aug</td>\n",
       "      <td>4.963</td>\n",
       "      <td>5228.1</td>\n",
       "      <td>1.4</td>\n",
       "      <td>cellular</td>\n",
       "      <td>0</td>\n",
       "      <td>blue-collar</td>\n",
       "      <td>unknown</td>\n",
       "      <td>93.444</td>\n",
       "      <td>-36.1</td>\n",
       "      <td>basic.4y</td>\n",
       "      <td>1</td>\n",
       "      <td>married</td>\n",
       "      <td>0</td>\n",
       "    </tr>\n",
       "    <tr>\n",
       "      <td>1</td>\n",
       "      <td>138</td>\n",
       "      <td>nonexistent</td>\n",
       "      <td>nov</td>\n",
       "      <td>4.021</td>\n",
       "      <td>5195.8</td>\n",
       "      <td>-0.1</td>\n",
       "      <td>cellular</td>\n",
       "      <td>0</td>\n",
       "      <td>technician</td>\n",
       "      <td>no</td>\n",
       "      <td>93.200</td>\n",
       "      <td>-42.0</td>\n",
       "      <td>unknown</td>\n",
       "      <td>1</td>\n",
       "      <td>married</td>\n",
       "      <td>0</td>\n",
       "    </tr>\n",
       "    <tr>\n",
       "      <td>2</td>\n",
       "      <td>339</td>\n",
       "      <td>success</td>\n",
       "      <td>jun</td>\n",
       "      <td>0.729</td>\n",
       "      <td>4991.6</td>\n",
       "      <td>-1.7</td>\n",
       "      <td>cellular</td>\n",
       "      <td>2</td>\n",
       "      <td>management</td>\n",
       "      <td>no</td>\n",
       "      <td>94.055</td>\n",
       "      <td>-39.8</td>\n",
       "      <td>university.degree</td>\n",
       "      <td>3</td>\n",
       "      <td>single</td>\n",
       "      <td>1</td>\n",
       "    </tr>\n",
       "    <tr>\n",
       "      <td>3</td>\n",
       "      <td>185</td>\n",
       "      <td>nonexistent</td>\n",
       "      <td>apr</td>\n",
       "      <td>1.405</td>\n",
       "      <td>5099.1</td>\n",
       "      <td>-1.8</td>\n",
       "      <td>cellular</td>\n",
       "      <td>0</td>\n",
       "      <td>services</td>\n",
       "      <td>no</td>\n",
       "      <td>93.075</td>\n",
       "      <td>-47.1</td>\n",
       "      <td>high.school</td>\n",
       "      <td>2</td>\n",
       "      <td>married</td>\n",
       "      <td>0</td>\n",
       "    </tr>\n",
       "    <tr>\n",
       "      <td>4</td>\n",
       "      <td>137</td>\n",
       "      <td>success</td>\n",
       "      <td>aug</td>\n",
       "      <td>0.869</td>\n",
       "      <td>5076.2</td>\n",
       "      <td>-2.9</td>\n",
       "      <td>cellular</td>\n",
       "      <td>1</td>\n",
       "      <td>retired</td>\n",
       "      <td>no</td>\n",
       "      <td>92.201</td>\n",
       "      <td>-31.4</td>\n",
       "      <td>basic.4y</td>\n",
       "      <td>1</td>\n",
       "      <td>married</td>\n",
       "      <td>1</td>\n",
       "    </tr>\n",
       "  </tbody>\n",
       "</table>\n",
       "</div>"
      ],
      "text/plain": [
       "   duration     poutcome month  euribor3m  nr_employed  emp_var_rate  \\\n",
       "0       210  nonexistent   aug      4.963       5228.1           1.4   \n",
       "1       138  nonexistent   nov      4.021       5195.8          -0.1   \n",
       "2       339      success   jun      0.729       4991.6          -1.7   \n",
       "3       185  nonexistent   apr      1.405       5099.1          -1.8   \n",
       "4       137      success   aug      0.869       5076.2          -2.9   \n",
       "\n",
       "    contact  previous          job  default  cons_price_idx  cons_conf_idx  \\\n",
       "0  cellular         0  blue-collar  unknown          93.444          -36.1   \n",
       "1  cellular         0   technician       no          93.200          -42.0   \n",
       "2  cellular         2   management       no          94.055          -39.8   \n",
       "3  cellular         0     services       no          93.075          -47.1   \n",
       "4  cellular         1      retired       no          92.201          -31.4   \n",
       "\n",
       "           education  campaign  marital  Target  \n",
       "0           basic.4y         1  married       0  \n",
       "1            unknown         1  married       0  \n",
       "2  university.degree         3   single       1  \n",
       "3        high.school         2  married       0  \n",
       "4           basic.4y         1  married       1  "
      ]
     },
     "execution_count": 14,
     "metadata": {},
     "output_type": "execute_result"
    }
   ],
   "source": [
    "df.head()"
   ]
  },
  {
   "cell_type": "code",
   "execution_count": 15,
   "metadata": {},
   "outputs": [
    {
     "name": "stdout",
     "output_type": "stream",
     "text": [
      "<class 'pandas.core.frame.DataFrame'>\n",
      "RangeIndex: 41188 entries, 0 to 41187\n",
      "Data columns (total 16 columns):\n",
      "duration          41188 non-null int64\n",
      "poutcome          41188 non-null object\n",
      "month             41188 non-null object\n",
      "euribor3m         41188 non-null float64\n",
      "nr_employed       41188 non-null float64\n",
      "emp_var_rate      41188 non-null float64\n",
      "contact           41188 non-null object\n",
      "previous          41188 non-null int64\n",
      "job               41188 non-null object\n",
      "default           41188 non-null object\n",
      "cons_price_idx    41188 non-null float64\n",
      "cons_conf_idx     41188 non-null float64\n",
      "education         41188 non-null object\n",
      "campaign          41188 non-null int64\n",
      "marital           41188 non-null object\n",
      "Target            41188 non-null int64\n",
      "dtypes: float64(5), int64(4), object(7)\n",
      "memory usage: 5.0+ MB\n"
     ]
    }
   ],
   "source": [
    "df.info()"
   ]
  },
  {
   "cell_type": "code",
   "execution_count": 16,
   "metadata": {},
   "outputs": [],
   "source": [
    "df.poutcome=df.poutcome.astype('category')\n",
    "df.month=df.month.astype('category')\n",
    "df.contact=df.contact.astype('category')\n",
    "df.previous=df.previous.astype('category')\n",
    "df.job=df.job.astype('category')\n",
    "df.default=df.default.astype('category')\n",
    "df.education=df.education.astype('category')\n",
    "df.campaign=df.campaign.astype('category')\n",
    "df.marital=df.marital.astype('category')"
   ]
  },
  {
   "cell_type": "code",
   "execution_count": 17,
   "metadata": {},
   "outputs": [
    {
     "data": {
      "text/plain": [
       "Index(['duration', 'poutcome', 'month', 'euribor3m', 'nr_employed',\n",
       "       'emp_var_rate', 'contact', 'previous', 'job', 'default',\n",
       "       'cons_price_idx', 'cons_conf_idx', 'education', 'campaign', 'marital',\n",
       "       'Target'],\n",
       "      dtype='object')"
      ]
     },
     "execution_count": 17,
     "metadata": {},
     "output_type": "execute_result"
    }
   ],
   "source": [
    "df.columns"
   ]
  },
  {
   "cell_type": "code",
   "execution_count": 18,
   "metadata": {},
   "outputs": [],
   "source": [
    "sc=StandardScaler()"
   ]
  },
  {
   "cell_type": "code",
   "execution_count": 19,
   "metadata": {},
   "outputs": [],
   "source": [
    "dum=pd.get_dummies(df.loc[:,[\n",
    " 'poutcome',\n",
    " 'contact',\n",
    " 'previous',\n",
    " 'job',\n",
    " 'default',\n",
    " 'education',\n",
    " 'marital',\"campaign\"]], drop_first=True)"
   ]
  },
  {
   "cell_type": "code",
   "execution_count": 20,
   "metadata": {},
   "outputs": [],
   "source": [
    "df.drop(labels=[\"poutcome\",\"month\",\"contact\",\"previous\",\"job\",\"default\",\"education\",\"campaign\",\"marital\"], axis=1, inplace=True)"
   ]
  },
  {
   "cell_type": "code",
   "execution_count": 21,
   "metadata": {},
   "outputs": [],
   "source": [
    "df=pd.concat([df,dum], axis=1)"
   ]
  },
  {
   "cell_type": "code",
   "execution_count": 22,
   "metadata": {},
   "outputs": [
    {
     "data": {
      "text/plain": [
       "(6, 0)"
      ]
     },
     "execution_count": 22,
     "metadata": {},
     "output_type": "execute_result"
    },
    {
     "data": {
      "image/png": "[encoded data removed]",
      "text/plain": [
       "<Figure size 432x288 with 2 Axes>"
      ]
     },
     "metadata": {
      "needs_background": "light"
     },
     "output_type": "display_data"
    }
   ],
   "source": [
    "ax=sns.heatmap(df.loc[:,['duration', 'euribor3m', 'nr_employed', 'emp_var_rate',\n",
    "       'cons_price_idx', 'cons_conf_idx']].corr(), annot=True)\n",
    "ax.set_ylim(6,0)\n",
    "\n",
    "#euribor3m is highly correlated with nr_employed, emp_var_rate\n",
    "#nr_employed is highly correlated with emp_var_rate\n",
    "#emp_var_rate also has medium-high correlation with cons_price_idx"
   ]
  },
  {
   "cell_type": "code",
   "execution_count": 23,
   "metadata": {},
   "outputs": [],
   "source": [
    "X=df.loc[:,['duration', 'euribor3m', 'nr_employed', 'emp_var_rate',\n",
    "       'cons_price_idx', 'cons_conf_idx','poutcome_nonexistent',\n",
    "       'poutcome_success', 'contact_telephone', 'previous_1', 'previous_2',\n",
    "       'previous_3', 'previous_4', 'previous_5', 'previous_6', 'previous_7',\n",
    "       'job_blue-collar', 'job_entrepreneur', 'job_housemaid',\n",
    "       'job_management', 'job_retired', 'job_self-employed', 'job_services',\n",
    "       'job_student', 'job_technician', 'job_unemployed', 'job_unknown',\n",
    "       'default_unknown', 'default_yes', 'education_basic.6y',\n",
    "       'education_basic.9y', 'education_high.school', 'education_illiterate',\n",
    "       'education_professional.course', 'education_university.degree',\n",
    "       'education_unknown', 'campaign_2', 'campaign_3', 'campaign_4',\n",
    "       'campaign_5', 'campaign_6', 'campaign_7', 'campaign_8', 'campaign_9',\n",
    "       'campaign_10', 'campaign_11', 'campaign_12', 'campaign_13',\n",
    "       'campaign_14', 'campaign_15', 'campaign_16', 'campaign_17',\n",
    "       'campaign_18', 'campaign_19', 'campaign_20', 'campaign_21',\n",
    "       'campaign_22', 'campaign_23', 'campaign_24', 'campaign_25',\n",
    "       'campaign_26', 'campaign_27', 'campaign_28', 'campaign_29',\n",
    "       'campaign_30', 'campaign_31', 'campaign_32', 'campaign_33',\n",
    "       'campaign_34', 'campaign_35', 'campaign_37', 'campaign_39',\n",
    "       'campaign_40', 'campaign_41', 'campaign_42', 'campaign_43',\n",
    "       'campaign_56', 'marital_married', 'marital_single', 'marital_unknown']]\n",
    "y=df.loc[:,\"Target\"]"
   ]
  },
  {
   "cell_type": "code",
   "execution_count": 24,
   "metadata": {},
   "outputs": [
    {
     "data": {
      "text/html": [
       "<div>\n",
       "<style scoped>\n",
       "    .dataframe tbody tr th:only-of-type {\n",
       "        vertical-align: middle;\n",
       "    }\n",
       "\n",
       "    .dataframe tbody tr th {\n",
       "        vertical-align: top;\n",
       "    }\n",
       "\n",
       "    .dataframe thead th {\n",
       "        text-align: right;\n",
       "    }\n",
       "</style>\n",
       "<table border=\"1\" class=\"dataframe\">\n",
       "  <thead>\n",
       "    <tr style=\"text-align: right;\">\n",
       "      <th></th>\n",
       "      <th>VIF Factor</th>\n",
       "      <th>features</th>\n",
       "    </tr>\n",
       "  </thead>\n",
       "  <tbody>\n",
       "    <tr>\n",
       "      <td>0</td>\n",
       "      <td>1.015515</td>\n",
       "      <td>duration</td>\n",
       "    </tr>\n",
       "    <tr>\n",
       "      <td>1</td>\n",
       "      <td>65.792254</td>\n",
       "      <td>euribor3m</td>\n",
       "    </tr>\n",
       "    <tr>\n",
       "      <td>2</td>\n",
       "      <td>32.625107</td>\n",
       "      <td>nr_employed</td>\n",
       "    </tr>\n",
       "    <tr>\n",
       "      <td>3</td>\n",
       "      <td>39.185979</td>\n",
       "      <td>emp_var_rate</td>\n",
       "    </tr>\n",
       "    <tr>\n",
       "      <td>4</td>\n",
       "      <td>9.299639</td>\n",
       "      <td>cons_price_idx</td>\n",
       "    </tr>\n",
       "    <tr>\n",
       "      <td>...</td>\n",
       "      <td>...</td>\n",
       "      <td>...</td>\n",
       "    </tr>\n",
       "    <tr>\n",
       "      <td>75</td>\n",
       "      <td>1.000433</td>\n",
       "      <td>campaign_43</td>\n",
       "    </tr>\n",
       "    <tr>\n",
       "      <td>76</td>\n",
       "      <td>1.000354</td>\n",
       "      <td>campaign_56</td>\n",
       "    </tr>\n",
       "    <tr>\n",
       "      <td>77</td>\n",
       "      <td>2.569043</td>\n",
       "      <td>marital_married</td>\n",
       "    </tr>\n",
       "    <tr>\n",
       "      <td>78</td>\n",
       "      <td>2.638288</td>\n",
       "      <td>marital_single</td>\n",
       "    </tr>\n",
       "    <tr>\n",
       "      <td>79</td>\n",
       "      <td>1.021142</td>\n",
       "      <td>marital_unknown</td>\n",
       "    </tr>\n",
       "  </tbody>\n",
       "</table>\n",
       "<p>80 rows × 2 columns</p>\n",
       "</div>"
      ],
      "text/plain": [
       "    VIF Factor         features\n",
       "0     1.015515         duration\n",
       "1    65.792254        euribor3m\n",
       "2    32.625107      nr_employed\n",
       "3    39.185979     emp_var_rate\n",
       "4     9.299639   cons_price_idx\n",
       "..         ...              ...\n",
       "75    1.000433      campaign_43\n",
       "76    1.000354      campaign_56\n",
       "77    2.569043  marital_married\n",
       "78    2.638288   marital_single\n",
       "79    1.021142  marital_unknown\n",
       "\n",
       "[80 rows x 2 columns]"
      ]
     },
     "execution_count": 24,
     "metadata": {},
     "output_type": "execute_result"
    }
   ],
   "source": [
    "vif = pd.DataFrame()\n",
    "vif[\"VIF Factor\"] = [variance_inflation_factor(X.values, i) for i in range(X.shape[1])]\n",
    "vif[\"features\"] = X.columns\n",
    "vif"
   ]
  },
  {
   "cell_type": "code",
   "execution_count": 25,
   "metadata": {},
   "outputs": [],
   "source": [
    "from statsmodels.stats.outliers_influence import variance_inflation_factor"
   ]
  },
  {
   "cell_type": "code",
   "execution_count": 26,
   "metadata": {},
   "outputs": [],
   "source": [
    "X_train, X_test, y_train, y_test = train_test_split(X, y, test_size=0.33, random_state=42)"
   ]
  },
  {
   "cell_type": "code",
   "execution_count": 27,
   "metadata": {
    "scrolled": true
   },
   "outputs": [
    {
     "name": "stdout",
     "output_type": "stream",
     "text": [
      "       VIF Factor                       features\n",
      "0        1.015515                       duration\n",
      "1       65.792254                      euribor3m\n",
      "2       32.625107                    nr_employed\n",
      "3       39.185979                   emp_var_rate\n",
      "4        9.299639                 cons_price_idx\n",
      "5        2.927580                  cons_conf_idx\n",
      "6   551362.626123           poutcome_nonexistent\n",
      "7        1.470039               poutcome_success\n",
      "8        2.095137              contact_telephone\n",
      "9    70697.141923                     previous_1\n",
      "10   11692.291715                     previous_2\n",
      "11    3347.009977                     previous_3\n",
      "12    1084.843280                     previous_4\n",
      "13     279.646964                     previous_5\n",
      "14      78.359711                     previous_6\n",
      "15      16.403970                     previous_7\n",
      "16       2.406326                job_blue-collar\n",
      "17       1.137061               job_entrepreneur\n",
      "18       1.183064                  job_housemaid\n",
      "19       1.238845                 job_management\n",
      "20       1.274355                    job_retired\n",
      "21       1.121426              job_self-employed\n",
      "22       1.424664                   job_services\n",
      "23       1.162178                    job_student\n",
      "24       1.760932                 job_technician\n",
      "25       1.099958                 job_unemployed\n",
      "26       1.073774                    job_unknown\n",
      "27       1.127201                default_unknown\n",
      "28       1.000918                    default_yes\n",
      "29       1.502040             education_basic.6y\n",
      "30       2.220987             education_basic.9y\n",
      "31       3.357303          education_high.school\n",
      "32       1.004816           education_illiterate\n",
      "33       2.682232  education_professional.course\n",
      "34       4.088910    education_university.degree\n",
      "35       1.464867              education_unknown\n",
      "36       1.193977                     campaign_2\n",
      "37       1.145864                     campaign_3\n",
      "38       1.085290                     campaign_4\n",
      "39       1.055611                     campaign_5\n",
      "40       1.036405                     campaign_6\n",
      "41       1.025351                     campaign_7\n",
      "42       1.018223                     campaign_8\n",
      "43       1.013445                     campaign_9\n",
      "44       1.011491                    campaign_10\n",
      "45       1.009361                    campaign_11\n",
      "46       1.007046                    campaign_12\n",
      "47       1.006204                    campaign_13\n",
      "48       1.004885                    campaign_14\n",
      "49       1.003392                    campaign_15\n",
      "50       1.003866                    campaign_16\n",
      "51       1.003759                    campaign_17\n",
      "52       1.003067                    campaign_18\n",
      "53       1.001939                    campaign_19\n",
      "54       1.003323                    campaign_20\n",
      "55       1.003236                    campaign_21\n",
      "56       1.001495                    campaign_22\n",
      "57       1.001481                    campaign_23\n",
      "58       1.001938                    campaign_24\n",
      "59       1.001068                    campaign_25\n",
      "60       1.001480                    campaign_26\n",
      "61       1.001412                    campaign_27\n",
      "62       1.001369                    campaign_28\n",
      "63       1.001329                    campaign_29\n",
      "64       1.001257                    campaign_30\n",
      "65       1.001451                    campaign_31\n",
      "66       1.000727                    campaign_32\n",
      "67       1.000644                    campaign_33\n",
      "68       1.000535                    campaign_34\n",
      "69       1.000770                    campaign_35\n",
      "70       1.000556                    campaign_37\n",
      "71       1.000865                    campaign_39\n",
      "72       1.000753                    campaign_40\n",
      "73       1.000521                    campaign_41\n",
      "74       1.000705                    campaign_42\n",
      "75       1.000433                    campaign_43\n",
      "76       1.000354                    campaign_56\n",
      "77       2.569043                marital_married\n",
      "78       2.638288                 marital_single\n",
      "79       1.021142                marital_unknown\n"
     ]
    }
   ],
   "source": [
    "print(vif.to_string())"
   ]
  },
  {
   "cell_type": "code",
   "execution_count": 28,
   "metadata": {},
   "outputs": [
    {
     "name": "stdout",
     "output_type": "stream",
     "text": [
      "    VIF Factor                       features\n",
      "0     1.015515                       duration\n",
      "5     2.927580                  cons_conf_idx\n",
      "7     1.470039               poutcome_success\n",
      "8     2.095137              contact_telephone\n",
      "16    2.406326                job_blue-collar\n",
      "17    1.137061               job_entrepreneur\n",
      "18    1.183064                  job_housemaid\n",
      "19    1.238845                 job_management\n",
      "20    1.274355                    job_retired\n",
      "21    1.121426              job_self-employed\n",
      "22    1.424664                   job_services\n",
      "23    1.162178                    job_student\n",
      "24    1.760932                 job_technician\n",
      "25    1.099958                 job_unemployed\n",
      "26    1.073774                    job_unknown\n",
      "27    1.127201                default_unknown\n",
      "28    1.000918                    default_yes\n",
      "29    1.502040             education_basic.6y\n",
      "30    2.220987             education_basic.9y\n",
      "31    3.357303          education_high.school\n",
      "32    1.004816           education_illiterate\n",
      "33    2.682232  education_professional.course\n",
      "35    1.464867              education_unknown\n",
      "36    1.193977                     campaign_2\n",
      "37    1.145864                     campaign_3\n",
      "38    1.085290                     campaign_4\n",
      "39    1.055611                     campaign_5\n",
      "40    1.036405                     campaign_6\n",
      "41    1.025351                     campaign_7\n",
      "42    1.018223                     campaign_8\n",
      "43    1.013445                     campaign_9\n",
      "44    1.011491                    campaign_10\n",
      "45    1.009361                    campaign_11\n",
      "46    1.007046                    campaign_12\n",
      "47    1.006204                    campaign_13\n",
      "48    1.004885                    campaign_14\n",
      "49    1.003392                    campaign_15\n",
      "50    1.003866                    campaign_16\n",
      "51    1.003759                    campaign_17\n",
      "52    1.003067                    campaign_18\n",
      "53    1.001939                    campaign_19\n",
      "54    1.003323                    campaign_20\n",
      "55    1.003236                    campaign_21\n",
      "56    1.001495                    campaign_22\n",
      "57    1.001481                    campaign_23\n",
      "58    1.001938                    campaign_24\n",
      "59    1.001068                    campaign_25\n",
      "60    1.001480                    campaign_26\n",
      "61    1.001412                    campaign_27\n",
      "62    1.001369                    campaign_28\n",
      "63    1.001329                    campaign_29\n",
      "64    1.001257                    campaign_30\n",
      "65    1.001451                    campaign_31\n",
      "66    1.000727                    campaign_32\n",
      "67    1.000644                    campaign_33\n",
      "68    1.000535                    campaign_34\n",
      "69    1.000770                    campaign_35\n",
      "70    1.000556                    campaign_37\n",
      "71    1.000865                    campaign_39\n",
      "72    1.000753                    campaign_40\n",
      "73    1.000521                    campaign_41\n",
      "74    1.000705                    campaign_42\n",
      "75    1.000433                    campaign_43\n",
      "76    1.000354                    campaign_56\n",
      "77    2.569043                marital_married\n",
      "78    2.638288                 marital_single\n",
      "79    1.021142                marital_unknown\n"
     ]
    }
   ],
   "source": [
    "print(vif.loc[vif[\"VIF Factor\"]<=4,].to_string())"
   ]
  },
  {
   "cell_type": "code",
   "execution_count": 29,
   "metadata": {},
   "outputs": [
    {
     "data": {
      "text/plain": [
       "['duration',\n",
       " 'euribor3m',\n",
       " 'nr_employed',\n",
       " 'emp_var_rate',\n",
       " 'cons_price_idx',\n",
       " 'cons_conf_idx',\n",
       " 'poutcome_nonexistent',\n",
       " 'poutcome_success',\n",
       " 'contact_telephone',\n",
       " 'previous_1',\n",
       " 'previous_2',\n",
       " 'previous_3',\n",
       " 'previous_4',\n",
       " 'previous_5',\n",
       " 'previous_6',\n",
       " 'previous_7',\n",
       " 'job_blue-collar',\n",
       " 'job_entrepreneur',\n",
       " 'job_housemaid',\n",
       " 'job_management',\n",
       " 'job_retired',\n",
       " 'job_self-employed',\n",
       " 'job_services',\n",
       " 'job_student',\n",
       " 'job_technician',\n",
       " 'job_unemployed',\n",
       " 'job_unknown',\n",
       " 'default_unknown',\n",
       " 'default_yes',\n",
       " 'education_basic.6y',\n",
       " 'education_basic.9y',\n",
       " 'education_high.school',\n",
       " 'education_illiterate',\n",
       " 'education_professional.course',\n",
       " 'education_university.degree',\n",
       " 'education_unknown',\n",
       " 'campaign_2',\n",
       " 'campaign_3',\n",
       " 'campaign_4',\n",
       " 'campaign_5',\n",
       " 'campaign_6',\n",
       " 'campaign_7',\n",
       " 'campaign_8',\n",
       " 'campaign_9',\n",
       " 'campaign_10',\n",
       " 'campaign_11',\n",
       " 'campaign_12',\n",
       " 'campaign_13',\n",
       " 'campaign_14',\n",
       " 'campaign_15',\n",
       " 'campaign_16',\n",
       " 'campaign_17',\n",
       " 'campaign_18',\n",
       " 'campaign_19',\n",
       " 'campaign_20',\n",
       " 'campaign_21',\n",
       " 'campaign_22',\n",
       " 'campaign_23',\n",
       " 'campaign_24',\n",
       " 'campaign_25',\n",
       " 'campaign_26',\n",
       " 'campaign_27',\n",
       " 'campaign_28',\n",
       " 'campaign_29',\n",
       " 'campaign_30',\n",
       " 'campaign_31',\n",
       " 'campaign_32',\n",
       " 'campaign_33',\n",
       " 'campaign_34',\n",
       " 'campaign_35',\n",
       " 'campaign_37',\n",
       " 'campaign_39',\n",
       " 'campaign_40',\n",
       " 'campaign_41',\n",
       " 'campaign_42',\n",
       " 'campaign_43',\n",
       " 'campaign_56',\n",
       " 'marital_married',\n",
       " 'marital_single',\n",
       " 'marital_unknown']"
      ]
     },
     "execution_count": 29,
     "metadata": {},
     "output_type": "execute_result"
    }
   ],
   "source": [
    "list(vif.features)"
   ]
  },
  {
   "cell_type": "code",
   "execution_count": 30,
   "metadata": {},
   "outputs": [],
   "source": [
    "X=df.loc[:,['duration',\n",
    " 'euribor3m',\n",
    " 'nr_employed',\n",
    " 'emp_var_rate',\n",
    " 'cons_price_idx',\n",
    " 'cons_conf_idx',\n",
    " 'poutcome_nonexistent',\n",
    " 'poutcome_success',\n",
    " 'contact_telephone',\n",
    " 'previous_1',\n",
    " 'previous_2',\n",
    " 'previous_3',\n",
    " 'previous_4',\n",
    " 'previous_5',\n",
    " 'previous_6',\n",
    " 'previous_7',\n",
    " 'job_blue-collar',\n",
    " 'job_entrepreneur',\n",
    " 'job_housemaid',\n",
    " 'job_management',\n",
    " 'job_retired',\n",
    " 'job_self-employed',\n",
    " 'job_services',\n",
    " 'job_student',\n",
    " 'job_technician',\n",
    " 'job_unemployed',\n",
    " 'job_unknown',\n",
    " 'default_unknown',\n",
    " 'default_yes',\n",
    " 'education_basic.6y',\n",
    " 'education_basic.9y',\n",
    " 'education_high.school',\n",
    " 'education_illiterate',\n",
    " 'education_professional.course',\n",
    " 'education_university.degree',\n",
    " 'education_unknown',\n",
    " 'campaign_2',\n",
    " 'campaign_3',\n",
    " 'campaign_4',\n",
    " 'campaign_5',\n",
    " 'campaign_6',\n",
    " 'campaign_7',\n",
    " 'campaign_8',\n",
    " 'campaign_9',\n",
    " 'campaign_10',\n",
    " 'campaign_11',\n",
    " 'campaign_12',\n",
    " 'campaign_13',\n",
    " 'campaign_14',\n",
    " 'campaign_15',\n",
    " 'campaign_16',\n",
    " 'campaign_17',\n",
    " 'campaign_18',\n",
    " 'campaign_19',\n",
    " 'campaign_20',\n",
    " 'campaign_21',\n",
    " 'campaign_22',\n",
    " 'campaign_23',\n",
    " 'campaign_24',\n",
    " 'campaign_25',\n",
    " 'campaign_26',\n",
    " 'campaign_27',\n",
    " 'campaign_28',\n",
    " 'campaign_29',\n",
    " 'campaign_30',\n",
    " 'campaign_31',\n",
    " 'campaign_32',\n",
    " 'campaign_33',\n",
    " 'campaign_34',\n",
    " 'campaign_35',\n",
    " 'campaign_37',\n",
    " 'campaign_39',\n",
    " 'campaign_40',\n",
    " 'campaign_41',\n",
    " 'campaign_42',\n",
    " 'campaign_43',\n",
    " 'campaign_56',\n",
    " 'marital_married',\n",
    " 'marital_single',\n",
    " 'marital_unknown']]\n",
    "y=df.loc[:,\"Target\"]"
   ]
  },
  {
   "cell_type": "code",
   "execution_count": 31,
   "metadata": {},
   "outputs": [],
   "source": [
    "X_train, X_test, y_train, y_test = train_test_split(X, y, test_size=0.3, random_state=1429)"
   ]
  },
  {
   "cell_type": "code",
   "execution_count": 32,
   "metadata": {},
   "outputs": [],
   "source": [
    "X_train_skl=sc.fit_transform(X_train)\n",
    "X_test_skl=sc.fit_transform(X_test)"
   ]
  },
  {
   "cell_type": "code",
   "execution_count": 33,
   "metadata": {},
   "outputs": [],
   "source": [
    "glm=LogisticRegression()"
   ]
  },
  {
   "cell_type": "code",
   "execution_count": 34,
   "metadata": {},
   "outputs": [
    {
     "name": "stderr",
     "output_type": "stream",
     "text": [
      "C:\\Users\\bishw\\Anaconda3\\lib\\site-packages\\sklearn\\linear_model\\logistic.py:432: FutureWarning: Default solver will be changed to 'lbfgs' in 0.22. Specify a solver to silence this warning.\n",
      "  FutureWarning)\n"
     ]
    },
    {
     "data": {
      "text/plain": [
       "LogisticRegression(C=1.0, class_weight=None, dual=False, fit_intercept=True,\n",
       "                   intercept_scaling=1, l1_ratio=None, max_iter=100,\n",
       "                   multi_class='warn', n_jobs=None, penalty='l2',\n",
       "                   random_state=None, solver='warn', tol=0.0001, verbose=0,\n",
       "                   warm_start=False)"
      ]
     },
     "execution_count": 34,
     "metadata": {},
     "output_type": "execute_result"
    }
   ],
   "source": [
    "glm.fit(X_train_skl, y_train)"
   ]
  },
  {
   "cell_type": "code",
   "execution_count": 35,
   "metadata": {},
   "outputs": [],
   "source": [
    "Pred=glm.predict(X_test)"
   ]
  },
  {
   "cell_type": "code",
   "execution_count": 36,
   "metadata": {},
   "outputs": [],
   "source": [
    "from sklearn import metrics"
   ]
  },
  {
   "cell_type": "code",
   "execution_count": 37,
   "metadata": {},
   "outputs": [
    {
     "name": "stdout",
     "output_type": "stream",
     "text": [
      "[[10708   272]\n",
      " [ 1062   315]]\n",
      "Accuracy of logistic regression classifier on test set: 0.91\n"
     ]
    }
   ],
   "source": [
    "print(metrics.confusion_matrix(y_test, Pred))\n",
    "print('Accuracy of logistic regression classifier on test set: {:.2f}'.format(glm.score(X_test_skl, y_test)))"
   ]
  },
  {
   "cell_type": "code",
   "execution_count": 38,
   "metadata": {},
   "outputs": [
    {
     "name": "stdout",
     "output_type": "stream",
     "text": [
      "              precision    recall  f1-score   support\n",
      "\n",
      "           0       0.91      0.98      0.94     10980\n",
      "           1       0.54      0.23      0.32      1377\n",
      "\n",
      "    accuracy                           0.89     12357\n",
      "   macro avg       0.72      0.60      0.63     12357\n",
      "weighted avg       0.87      0.89      0.87     12357\n",
      "\n"
     ]
    }
   ],
   "source": [
    "print(metrics.classification_report(y_test, Pred))"
   ]
  },
  {
   "cell_type": "code",
   "execution_count": 39,
   "metadata": {},
   "outputs": [
    {
     "name": "stdout",
     "output_type": "stream",
     "text": [
      "Area under curve 0.60\n"
     ]
    }
   ],
   "source": [
    "AUC=metrics.roc_auc_score(y_test, Pred)\n",
    "print(\"Area under curve {:.2f}\". format(AUC))"
   ]
  },
  {
   "cell_type": "code",
   "execution_count": 40,
   "metadata": {},
   "outputs": [],
   "source": [
    "fpr, tpr, th=metrics.roc_curve(y_test,glm.predict_proba(X_test_skl)[:,1] )"
   ]
  },
  {
   "cell_type": "code",
   "execution_count": 41,
   "metadata": {},
   "outputs": [
    {
     "data": {
      "text/plain": [
       "<matplotlib.legend.Legend at 0x285fb450748>"
      ]
     },
     "execution_count": 41,
     "metadata": {},
     "output_type": "execute_result"
    },
    {
     "data": {
      "image/png": "[encoded data removed]",
      "text/plain": [
       "<Figure size 432x288 with 1 Axes>"
      ]
     },
     "metadata": {
      "needs_background": "light"
     },
     "output_type": "display_data"
    }
   ],
   "source": [
    "sns.lineplot(fpr,tpr)\n",
    "sns.lineplot([0,1], [0,1])\n",
    "plt.xlabel(\"False +ve Rate\")\n",
    "plt.ylabel(\"True +ve Rate\")\n",
    "plt.legend(title='AUROC', labels=[np.round(AUC,2)])"
   ]
  },
  {
   "cell_type": "code",
   "execution_count": 42,
   "metadata": {},
   "outputs": [
    {
     "data": {
      "text/plain": [
       "array([[10708,   272],\n",
       "       [ 1062,   315]], dtype=int64)"
      ]
     },
     "execution_count": 42,
     "metadata": {},
     "output_type": "execute_result"
    },
    {
     "data": {
      "image/png": "[encoded data removed]",
      "text/plain": [
       "<Figure size 432x288 with 2 Axes>"
      ]
     },
     "metadata": {
      "needs_background": "light"
     },
     "output_type": "display_data"
    }
   ],
   "source": [
    "cm=metrics.confusion_matrix(y_test, Pred)\n",
    "sns.heatmap(cm, annot=True)\n",
    "plt.ylim(2,0)\n",
    "cm"
   ]
  },
  {
   "cell_type": "code",
   "execution_count": 43,
   "metadata": {},
   "outputs": [],
   "source": [
    "precisions, recalls, thresholds =metrics.precision_recall_curve(y_test,glm.predict_proba(X_test)[:,1] )"
   ]
  },
  {
   "cell_type": "markdown",
   "metadata": {},
   "source": [
    "def plot_precision_recall_vs_threshold(precisions, recalls, thresholds):\n",
    "    plt.figure(figsize=(8, 8))\n",
    "    plt.title(\"Precision and Recall Scores as a function of the decision threshold\")\n",
    "    plt.plot(thresholds, precisions[:-1], \"b--\", label=\"Precision\")\n",
    "    plt.plot(thresholds, recalls[:-1], \"g-\", label=\"Recall\")\n",
    "    plt.ylabel(\"Score\")\n",
    "    plt.xlabel(\"Decision Threshold\")\n",
    "    plt.legend(loc='best')"
   ]
  },
  {
   "cell_type": "markdown",
   "metadata": {},
   "source": [
    "plot_precision_recall_vs_threshold(precisions, recalls, thresholds)"
   ]
  },
  {
   "cell_type": "code",
   "execution_count": 44,
   "metadata": {},
   "outputs": [],
   "source": [
    "from sklearn.model_selection import cross_val_score"
   ]
  },
  {
   "cell_type": "code",
   "execution_count": 45,
   "metadata": {},
   "outputs": [
    {
     "name": "stderr",
     "output_type": "stream",
     "text": [
      "[Parallel(n_jobs=-1)]: Using backend LokyBackend with 8 concurrent workers.\n",
      "[Parallel(n_jobs=-1)]: Done   6 out of  10 | elapsed:    7.7s remaining:    5.1s\n"
     ]
    },
    {
     "name": "stdout",
     "output_type": "stream",
     "text": [
      "[0.91400832 0.90984743 0.90533981 0.90738814 0.9157128  0.91016302\n",
      " 0.91155047 0.91432536 0.90423317 0.91464261]\n"
     ]
    },
    {
     "name": "stderr",
     "output_type": "stream",
     "text": [
      "[Parallel(n_jobs=-1)]: Done  10 out of  10 | elapsed:    9.1s finished\n"
     ]
    }
   ],
   "source": [
    "cv_accuracy=cross_val_score(glm,X_train_skl, y_train, cv=10, scoring='accuracy', verbose=1, n_jobs=-1)\n",
    "print(cv_accuracy)"
   ]
  },
  {
   "cell_type": "code",
   "execution_count": 46,
   "metadata": {},
   "outputs": [],
   "source": [
    "from sklearn.metrics import balanced_accuracy_score"
   ]
  },
  {
   "cell_type": "code",
   "execution_count": 47,
   "metadata": {},
   "outputs": [
    {
     "name": "stdout",
     "output_type": "stream",
     "text": [
      "Balanced Accuracy Score is  0.60\n"
     ]
    }
   ],
   "source": [
    "print(\"Balanced Accuracy Score is {: .2f}\".format(balanced_accuracy_score(y_test, Pred)))"
   ]
  },
  {
   "cell_type": "code",
   "execution_count": 48,
   "metadata": {},
   "outputs": [],
   "source": [
    "from sklearn.utils import resample"
   ]
  },
  {
   "cell_type": "markdown",
   "metadata": {},
   "source": [
    "Oversampling Minority Class, Undersamlping Majority Class, SMOTE(Synthetic Minority Oversampling Technique.)"
   ]
  },
  {
   "cell_type": "code",
   "execution_count": 49,
   "metadata": {},
   "outputs": [],
   "source": [
    "df_train=pd.concat([X_train, y_train], axis=1)"
   ]
  },
  {
   "cell_type": "code",
   "execution_count": 50,
   "metadata": {},
   "outputs": [
    {
     "data": {
      "text/plain": [
       "0    25568\n",
       "1     3263\n",
       "Name: Target, dtype: int64"
      ]
     },
     "execution_count": 50,
     "metadata": {},
     "output_type": "execute_result"
    }
   ],
   "source": [
    "df_train.Target.value_counts()"
   ]
  },
  {
   "cell_type": "markdown",
   "metadata": {},
   "source": [
    "Zeros majority class and ones are minority class"
   ]
  },
  {
   "cell_type": "code",
   "execution_count": 51,
   "metadata": {},
   "outputs": [],
   "source": [
    "zero=df_train.loc[df_train.Target==0,:]\n",
    "one=df_train.loc[df_train.Target==1,:]"
   ]
  },
  {
   "cell_type": "code",
   "execution_count": 52,
   "metadata": {},
   "outputs": [],
   "source": [
    "ones_upsampled=resample(one, replace=True, n_samples=len(zero), random_state=1429)"
   ]
  },
  {
   "cell_type": "code",
   "execution_count": 53,
   "metadata": {},
   "outputs": [
    {
     "data": {
      "text/plain": [
       "(25568, 81)"
      ]
     },
     "execution_count": 53,
     "metadata": {},
     "output_type": "execute_result"
    }
   ],
   "source": [
    "zero.shape"
   ]
  },
  {
   "cell_type": "code",
   "execution_count": 54,
   "metadata": {},
   "outputs": [
    {
     "data": {
      "text/plain": [
       "(25568, 81)"
      ]
     },
     "execution_count": 54,
     "metadata": {},
     "output_type": "execute_result"
    }
   ],
   "source": [
    "ones_upsampled.shape"
   ]
  },
  {
   "cell_type": "code",
   "execution_count": 55,
   "metadata": {},
   "outputs": [],
   "source": [
    "df_train_up=pd.concat([zero, ones_upsampled], axis='rows')"
   ]
  },
  {
   "cell_type": "code",
   "execution_count": 56,
   "metadata": {},
   "outputs": [],
   "source": [
    "zero_downsampled=resample(zero, replace=False, n_samples=len(one), random_state=1429)"
   ]
  },
  {
   "cell_type": "code",
   "execution_count": 57,
   "metadata": {},
   "outputs": [
    {
     "data": {
      "text/plain": [
       "(3263, 81)"
      ]
     },
     "execution_count": 57,
     "metadata": {},
     "output_type": "execute_result"
    }
   ],
   "source": [
    "zero_downsampled.shape"
   ]
  },
  {
   "cell_type": "code",
   "execution_count": 58,
   "metadata": {},
   "outputs": [
    {
     "data": {
      "text/plain": [
       "(3263, 81)"
      ]
     },
     "execution_count": 58,
     "metadata": {},
     "output_type": "execute_result"
    }
   ],
   "source": [
    "one.shape"
   ]
  },
  {
   "cell_type": "code",
   "execution_count": 59,
   "metadata": {},
   "outputs": [],
   "source": [
    "df_train_down=pd.concat([zero_downsampled, one], axis='rows')"
   ]
  },
  {
   "cell_type": "code",
   "execution_count": 60,
   "metadata": {},
   "outputs": [
    {
     "data": {
      "text/plain": [
       "(6526, 81)"
      ]
     },
     "execution_count": 60,
     "metadata": {},
     "output_type": "execute_result"
    }
   ],
   "source": [
    "df_train_down.shape"
   ]
  },
  {
   "cell_type": "code",
   "execution_count": 61,
   "metadata": {},
   "outputs": [],
   "source": [
    "from imblearn.over_sampling import SMOTE"
   ]
  },
  {
   "cell_type": "code",
   "execution_count": 62,
   "metadata": {},
   "outputs": [],
   "source": [
    "sm=SMOTE(random_state=1429, ratio=1, n_jobs=-1)"
   ]
  },
  {
   "cell_type": "code",
   "execution_count": 63,
   "metadata": {},
   "outputs": [],
   "source": [
    "X_sm_train, y_sm_train = sm.fit_sample(X_train, y_train)"
   ]
  },
  {
   "cell_type": "code",
   "execution_count": 64,
   "metadata": {},
   "outputs": [
    {
     "data": {
      "text/plain": [
       "(51136, 80)"
      ]
     },
     "execution_count": 64,
     "metadata": {},
     "output_type": "execute_result"
    }
   ],
   "source": [
    "X_sm_train.shape"
   ]
  },
  {
   "cell_type": "code",
   "execution_count": 65,
   "metadata": {},
   "outputs": [
    {
     "data": {
      "text/plain": [
       "(51136,)"
      ]
     },
     "execution_count": 65,
     "metadata": {},
     "output_type": "execute_result"
    }
   ],
   "source": [
    "y_sm_train.shape"
   ]
  },
  {
   "cell_type": "code",
   "execution_count": 66,
   "metadata": {},
   "outputs": [],
   "source": [
    "X_up_train=df_train_up.loc[:,['duration',\n",
    " 'euribor3m',\n",
    " 'nr_employed',\n",
    " 'emp_var_rate',\n",
    " 'cons_price_idx',\n",
    " 'cons_conf_idx',\n",
    " 'poutcome_nonexistent',\n",
    " 'poutcome_success',\n",
    " 'contact_telephone',\n",
    " 'previous_1',\n",
    " 'previous_2',\n",
    " 'previous_3',\n",
    " 'previous_4',\n",
    " 'previous_5',\n",
    " 'previous_6',\n",
    " 'previous_7',\n",
    " 'job_blue-collar',\n",
    " 'job_entrepreneur',\n",
    " 'job_housemaid',\n",
    " 'job_management',\n",
    " 'job_retired',\n",
    " 'job_self-employed',\n",
    " 'job_services',\n",
    " 'job_student',\n",
    " 'job_technician',\n",
    " 'job_unemployed',\n",
    " 'job_unknown',\n",
    " 'default_unknown',\n",
    " 'default_yes',\n",
    " 'education_basic.6y',\n",
    " 'education_basic.9y',\n",
    " 'education_high.school',\n",
    " 'education_illiterate',\n",
    " 'education_professional.course',\n",
    " 'education_university.degree',\n",
    " 'education_unknown',\n",
    " 'campaign_2',\n",
    " 'campaign_3',\n",
    " 'campaign_4',\n",
    " 'campaign_5',\n",
    " 'campaign_6',\n",
    " 'campaign_7',\n",
    " 'campaign_8',\n",
    " 'campaign_9',\n",
    " 'campaign_10',\n",
    " 'campaign_11',\n",
    " 'campaign_12',\n",
    " 'campaign_13',\n",
    " 'campaign_14',\n",
    " 'campaign_15',\n",
    " 'campaign_16',\n",
    " 'campaign_17',\n",
    " 'campaign_18',\n",
    " 'campaign_19',\n",
    " 'campaign_20',\n",
    " 'campaign_21',\n",
    " 'campaign_22',\n",
    " 'campaign_23',\n",
    " 'campaign_24',\n",
    " 'campaign_25',\n",
    " 'campaign_26',\n",
    " 'campaign_27',\n",
    " 'campaign_28',\n",
    " 'campaign_29',\n",
    " 'campaign_30',\n",
    " 'campaign_31',\n",
    " 'campaign_32',\n",
    " 'campaign_33',\n",
    " 'campaign_34',\n",
    " 'campaign_35',\n",
    " 'campaign_37',\n",
    " 'campaign_39',\n",
    " 'campaign_40',\n",
    " 'campaign_41',\n",
    " 'campaign_42',\n",
    " 'campaign_43',\n",
    " 'campaign_56',\n",
    " 'marital_married',\n",
    " 'marital_single',\n",
    " 'marital_unknown']]\n",
    "y_up_train=df_train_up.loc[:,'Target']"
   ]
  },
  {
   "cell_type": "code",
   "execution_count": 67,
   "metadata": {},
   "outputs": [],
   "source": [
    "X_up_train_skl=sc.fit_transform(X_up_train)"
   ]
  },
  {
   "cell_type": "code",
   "execution_count": 68,
   "metadata": {},
   "outputs": [
    {
     "name": "stderr",
     "output_type": "stream",
     "text": [
      "[Parallel(n_jobs=-1)]: Using backend LokyBackend with 8 concurrent workers.\n",
      "[Parallel(n_jobs=-1)]: Done   6 out of  10 | elapsed:    5.6s remaining:    3.7s\n",
      "[Parallel(n_jobs=-1)]: Done  10 out of  10 | elapsed:    6.4s finished\n"
     ]
    },
    {
     "data": {
      "text/plain": [
       "array([0.85647243, 0.85705905, 0.85686351, 0.86272976, 0.85549472,\n",
       "       0.85432147, 0.85099726, 0.85862339, 0.85739437, 0.85582942])"
      ]
     },
     "execution_count": 68,
     "metadata": {},
     "output_type": "execute_result"
    }
   ],
   "source": [
    "cross_val_score(glm,X_up_train_skl, y_up_train, cv=10, scoring='accuracy', verbose=1, n_jobs=-1)\n"
   ]
  },
  {
   "cell_type": "code",
   "execution_count": 69,
   "metadata": {},
   "outputs": [
    {
     "name": "stderr",
     "output_type": "stream",
     "text": [
      "[Parallel(n_jobs=-1)]: Using backend LokyBackend with 8 concurrent workers.\n",
      "[Parallel(n_jobs=-1)]: Done   6 out of  10 | elapsed:    5.5s remaining:    3.7s\n",
      "[Parallel(n_jobs=-1)]: Done  10 out of  10 | elapsed:    6.3s finished\n"
     ]
    },
    {
     "data": {
      "text/plain": [
       "array([0.85984998, 0.85803922, 0.85381931, 0.86587771, 0.85232558,\n",
       "       0.84712644, 0.85127202, 0.85820312, 0.86007095, 0.85680659])"
      ]
     },
     "execution_count": 69,
     "metadata": {},
     "output_type": "execute_result"
    }
   ],
   "source": [
    "cross_val_score(glm,X_up_train_skl, y_up_train, cv=10, scoring='precision', verbose=1, n_jobs=-1)\n"
   ]
  },
  {
   "cell_type": "code",
   "execution_count": 70,
   "metadata": {},
   "outputs": [
    {
     "name": "stderr",
     "output_type": "stream",
     "text": [
      "[Parallel(n_jobs=-1)]: Using backend LokyBackend with 8 concurrent workers.\n",
      "[Parallel(n_jobs=-1)]: Done   6 out of  10 | elapsed:    5.6s remaining:    3.7s\n",
      "[Parallel(n_jobs=-1)]: Done  10 out of  10 | elapsed:    6.3s finished\n"
     ]
    },
    {
     "data": {
      "text/plain": [
       "array([0.85177943, 0.85569026, 0.86116543, 0.85842785, 0.85999218,\n",
       "       0.86468518, 0.85060618, 0.85921001, 0.85367762, 0.85446009])"
      ]
     },
     "execution_count": 70,
     "metadata": {},
     "output_type": "execute_result"
    }
   ],
   "source": [
    "cross_val_score(glm,X_up_train_skl, y_up_train, cv=10, scoring='recall', verbose=1, n_jobs=-1)\n"
   ]
  },
  {
   "cell_type": "code",
   "execution_count": 71,
   "metadata": {},
   "outputs": [
    {
     "name": "stderr",
     "output_type": "stream",
     "text": [
      "C:\\Users\\bishw\\Anaconda3\\lib\\site-packages\\sklearn\\linear_model\\logistic.py:432: FutureWarning: Default solver will be changed to 'lbfgs' in 0.22. Specify a solver to silence this warning.\n",
      "  FutureWarning)\n"
     ]
    },
    {
     "data": {
      "text/plain": [
       "LogisticRegression(C=1.0, class_weight=None, dual=False, fit_intercept=True,\n",
       "                   intercept_scaling=1, l1_ratio=None, max_iter=100,\n",
       "                   multi_class='warn', n_jobs=None, penalty='l2',\n",
       "                   random_state=None, solver='warn', tol=0.0001, verbose=0,\n",
       "                   warm_start=False)"
      ]
     },
     "execution_count": 71,
     "metadata": {},
     "output_type": "execute_result"
    }
   ],
   "source": [
    "glm.fit(X_up_train_skl, y_up_train)"
   ]
  },
  {
   "cell_type": "code",
   "execution_count": 72,
   "metadata": {},
   "outputs": [],
   "source": [
    "pred_up=glm.predict(X_test)"
   ]
  },
  {
   "cell_type": "code",
   "execution_count": 73,
   "metadata": {},
   "outputs": [
    {
     "name": "stdout",
     "output_type": "stream",
     "text": [
      "              precision    recall  f1-score   support\n",
      "\n",
      "           0       0.89      1.00      0.94     10980\n",
      "           1       0.54      0.02      0.04      1377\n",
      "\n",
      "    accuracy                           0.89     12357\n",
      "   macro avg       0.71      0.51      0.49     12357\n",
      "weighted avg       0.85      0.89      0.84     12357\n",
      "\n"
     ]
    }
   ],
   "source": [
    "print(metrics.classification_report(y_test,pred_up))"
   ]
  },
  {
   "cell_type": "code",
   "execution_count": 74,
   "metadata": {},
   "outputs": [],
   "source": [
    "X_down_train=df_train_down.loc[:,['duration',\n",
    " 'euribor3m',\n",
    " 'nr_employed',\n",
    " 'emp_var_rate',\n",
    " 'cons_price_idx',\n",
    " 'cons_conf_idx',\n",
    " 'poutcome_nonexistent',\n",
    " 'poutcome_success',\n",
    " 'contact_telephone',\n",
    " 'previous_1',\n",
    " 'previous_2',\n",
    " 'previous_3',\n",
    " 'previous_4',\n",
    " 'previous_5',\n",
    " 'previous_6',\n",
    " 'previous_7',\n",
    " 'job_blue-collar',\n",
    " 'job_entrepreneur',\n",
    " 'job_housemaid',\n",
    " 'job_management',\n",
    " 'job_retired',\n",
    " 'job_self-employed',\n",
    " 'job_services',\n",
    " 'job_student',\n",
    " 'job_technician',\n",
    " 'job_unemployed',\n",
    " 'job_unknown',\n",
    " 'default_unknown',\n",
    " 'default_yes',\n",
    " 'education_basic.6y',\n",
    " 'education_basic.9y',\n",
    " 'education_high.school',\n",
    " 'education_illiterate',\n",
    " 'education_professional.course',\n",
    " 'education_university.degree',\n",
    " 'education_unknown',\n",
    " 'campaign_2',\n",
    " 'campaign_3',\n",
    " 'campaign_4',\n",
    " 'campaign_5',\n",
    " 'campaign_6',\n",
    " 'campaign_7',\n",
    " 'campaign_8',\n",
    " 'campaign_9',\n",
    " 'campaign_10',\n",
    " 'campaign_11',\n",
    " 'campaign_12',\n",
    " 'campaign_13',\n",
    " 'campaign_14',\n",
    " 'campaign_15',\n",
    " 'campaign_16',\n",
    " 'campaign_17',\n",
    " 'campaign_18',\n",
    " 'campaign_19',\n",
    " 'campaign_20',\n",
    " 'campaign_21',\n",
    " 'campaign_22',\n",
    " 'campaign_23',\n",
    " 'campaign_24',\n",
    " 'campaign_25',\n",
    " 'campaign_26',\n",
    " 'campaign_27',\n",
    " 'campaign_28',\n",
    " 'campaign_29',\n",
    " 'campaign_30',\n",
    " 'campaign_31',\n",
    " 'campaign_32',\n",
    " 'campaign_33',\n",
    " 'campaign_34',\n",
    " 'campaign_35',\n",
    " 'campaign_37',\n",
    " 'campaign_39',\n",
    " 'campaign_40',\n",
    " 'campaign_41',\n",
    " 'campaign_42',\n",
    " 'campaign_43',\n",
    " 'campaign_56',\n",
    " 'marital_married',\n",
    " 'marital_single',\n",
    " 'marital_unknown']]\n",
    "y_down_train=df_train_down.loc[:,'Target']"
   ]
  },
  {
   "cell_type": "code",
   "execution_count": 75,
   "metadata": {},
   "outputs": [],
   "source": [
    "X_down_train_skl=sc.fit_transform(X_down_train)"
   ]
  },
  {
   "cell_type": "code",
   "execution_count": 76,
   "metadata": {},
   "outputs": [
    {
     "name": "stderr",
     "output_type": "stream",
     "text": [
      "[Parallel(n_jobs=-1)]: Using backend LokyBackend with 8 concurrent workers.\n",
      "[Parallel(n_jobs=-1)]: Done   6 out of  10 | elapsed:    0.4s remaining:    0.3s\n",
      "[Parallel(n_jobs=-1)]: Done  10 out of  10 | elapsed:    0.5s finished\n"
     ]
    },
    {
     "data": {
      "text/plain": [
       "array([0.84097859, 0.85015291, 0.84250765, 0.85582822, 0.86042945,\n",
       "       0.83895706, 0.86656442, 0.86656442, 0.85429448, 0.83588957])"
      ]
     },
     "execution_count": 76,
     "metadata": {},
     "output_type": "execute_result"
    }
   ],
   "source": [
    "cross_val_score(glm,X_down_train_skl, y_down_train, cv=10, scoring='accuracy', verbose=1, n_jobs=-1)\n"
   ]
  },
  {
   "cell_type": "code",
   "execution_count": 77,
   "metadata": {},
   "outputs": [
    {
     "name": "stderr",
     "output_type": "stream",
     "text": [
      "C:\\Users\\bishw\\Anaconda3\\lib\\site-packages\\sklearn\\linear_model\\logistic.py:432: FutureWarning: Default solver will be changed to 'lbfgs' in 0.22. Specify a solver to silence this warning.\n",
      "  FutureWarning)\n"
     ]
    },
    {
     "data": {
      "text/plain": [
       "LogisticRegression(C=1.0, class_weight=None, dual=False, fit_intercept=True,\n",
       "                   intercept_scaling=1, l1_ratio=None, max_iter=100,\n",
       "                   multi_class='warn', n_jobs=None, penalty='l2',\n",
       "                   random_state=None, solver='warn', tol=0.0001, verbose=0,\n",
       "                   warm_start=False)"
      ]
     },
     "execution_count": 77,
     "metadata": {},
     "output_type": "execute_result"
    }
   ],
   "source": [
    "glm.fit(X_down_train_skl,y_down_train)"
   ]
  },
  {
   "cell_type": "code",
   "execution_count": 78,
   "metadata": {},
   "outputs": [],
   "source": [
    "pred_down=glm.predict(X_test)"
   ]
  },
  {
   "cell_type": "code",
   "execution_count": 79,
   "metadata": {},
   "outputs": [
    {
     "name": "stdout",
     "output_type": "stream",
     "text": [
      "              precision    recall  f1-score   support\n",
      "\n",
      "           0       0.89      1.00      0.94     10980\n",
      "           1       0.57      0.02      0.04      1377\n",
      "\n",
      "    accuracy                           0.89     12357\n",
      "   macro avg       0.73      0.51      0.49     12357\n",
      "weighted avg       0.85      0.89      0.84     12357\n",
      "\n"
     ]
    }
   ],
   "source": [
    "print(metrics.classification_report(y_test, pred_down))"
   ]
  },
  {
   "cell_type": "code",
   "execution_count": 80,
   "metadata": {},
   "outputs": [
    {
     "data": {
      "text/plain": [
       "1    25568\n",
       "0    25568\n",
       "Name: Target, dtype: int64"
      ]
     },
     "execution_count": 80,
     "metadata": {},
     "output_type": "execute_result"
    }
   ],
   "source": [
    "df_train_up.Target.value_counts()"
   ]
  },
  {
   "cell_type": "code",
   "execution_count": 81,
   "metadata": {},
   "outputs": [
    {
     "data": {
      "text/plain": [
       "1    3263\n",
       "0    3263\n",
       "Name: Target, dtype: int64"
      ]
     },
     "execution_count": 81,
     "metadata": {},
     "output_type": "execute_result"
    }
   ],
   "source": [
    "df_train_down.Target.value_counts()"
   ]
  },
  {
   "cell_type": "code",
   "execution_count": 82,
   "metadata": {},
   "outputs": [
    {
     "data": {
      "text/plain": [
       "0    10980\n",
       "1     1377\n",
       "Name: Target, dtype: int64"
      ]
     },
     "execution_count": 82,
     "metadata": {},
     "output_type": "execute_result"
    }
   ],
   "source": [
    "y_test.value_counts()"
   ]
  },
  {
   "cell_type": "code",
   "execution_count": 83,
   "metadata": {},
   "outputs": [],
   "source": [
    "X_sm_train_skl=sc.fit_transform(X_sm_train)"
   ]
  },
  {
   "cell_type": "code",
   "execution_count": 84,
   "metadata": {},
   "outputs": [
    {
     "name": "stderr",
     "output_type": "stream",
     "text": [
      "[Parallel(n_jobs=-1)]: Using backend LokyBackend with 8 concurrent workers.\n",
      "[Parallel(n_jobs=-1)]: Done   6 out of  10 | elapsed:    1.9s remaining:    1.3s\n",
      "[Parallel(n_jobs=-1)]: Done  10 out of  10 | elapsed:    2.6s finished\n"
     ]
    },
    {
     "data": {
      "text/plain": [
       "array([0.85940555, 0.86077434, 0.86312084, 0.8676183 , 0.86155651,\n",
       "       0.86214314, 0.85979664, 0.86253422, 0.86287167, 0.86561033])"
      ]
     },
     "execution_count": 84,
     "metadata": {},
     "output_type": "execute_result"
    }
   ],
   "source": [
    "cross_val_score(glm,X_sm_train, y_sm_train, cv=10, scoring='accuracy', verbose=1, n_jobs=-1)\n"
   ]
  },
  {
   "cell_type": "code",
   "execution_count": 85,
   "metadata": {},
   "outputs": [
    {
     "name": "stderr",
     "output_type": "stream",
     "text": [
      "C:\\Users\\bishw\\Anaconda3\\lib\\site-packages\\sklearn\\linear_model\\logistic.py:432: FutureWarning: Default solver will be changed to 'lbfgs' in 0.22. Specify a solver to silence this warning.\n",
      "  FutureWarning)\n"
     ]
    },
    {
     "data": {
      "text/plain": [
       "LogisticRegression(C=1.0, class_weight=None, dual=False, fit_intercept=True,\n",
       "                   intercept_scaling=1, l1_ratio=None, max_iter=100,\n",
       "                   multi_class='warn', n_jobs=None, penalty='l2',\n",
       "                   random_state=None, solver='warn', tol=0.0001, verbose=0,\n",
       "                   warm_start=False)"
      ]
     },
     "execution_count": 85,
     "metadata": {},
     "output_type": "execute_result"
    }
   ],
   "source": [
    "glm.fit(X_sm_train_skl, y_sm_train)"
   ]
  },
  {
   "cell_type": "code",
   "execution_count": 86,
   "metadata": {},
   "outputs": [],
   "source": [
    "pred_sm=glm.predict(X_test)"
   ]
  },
  {
   "cell_type": "code",
   "execution_count": 87,
   "metadata": {},
   "outputs": [
    {
     "name": "stdout",
     "output_type": "stream",
     "text": [
      "              precision    recall  f1-score   support\n",
      "\n",
      "           0       0.90      0.99      0.94     10980\n",
      "           1       0.56      0.13      0.21      1377\n",
      "\n",
      "    accuracy                           0.89     12357\n",
      "   macro avg       0.73      0.56      0.57     12357\n",
      "weighted avg       0.86      0.89      0.86     12357\n",
      "\n"
     ]
    }
   ],
   "source": [
    "print(metrics.classification_report(y_test, pred_sm))"
   ]
  },
  {
   "cell_type": "code",
   "execution_count": 90,
   "metadata": {},
   "outputs": [
    {
     "name": "stderr",
     "output_type": "stream",
     "text": [
      "C:\\Users\\bishw\\Anaconda3\\lib\\site-packages\\sklearn\\linear_model\\logistic.py:432: FutureWarning: Default solver will be changed to 'lbfgs' in 0.22. Specify a solver to silence this warning.\n",
      "  FutureWarning)\n",
      "C:\\Users\\bishw\\Anaconda3\\lib\\site-packages\\sklearn\\linear_model\\logistic.py:432: FutureWarning: Default solver will be changed to 'lbfgs' in 0.22. Specify a solver to silence this warning.\n",
      "  FutureWarning)\n",
      "C:\\Users\\bishw\\Anaconda3\\lib\\site-packages\\sklearn\\linear_model\\logistic.py:432: FutureWarning: Default solver will be changed to 'lbfgs' in 0.22. Specify a solver to silence this warning.\n",
      "  FutureWarning)\n",
      "C:\\Users\\bishw\\Anaconda3\\lib\\site-packages\\sklearn\\linear_model\\logistic.py:432: FutureWarning: Default solver will be changed to 'lbfgs' in 0.22. Specify a solver to silence this warning.\n",
      "  FutureWarning)\n",
      "C:\\Users\\bishw\\Anaconda3\\lib\\site-packages\\sklearn\\linear_model\\logistic.py:432: FutureWarning: Default solver will be changed to 'lbfgs' in 0.22. Specify a solver to silence this warning.\n",
      "  FutureWarning)\n",
      "C:\\Users\\bishw\\Anaconda3\\lib\\site-packages\\sklearn\\linear_model\\logistic.py:432: FutureWarning: Default solver will be changed to 'lbfgs' in 0.22. Specify a solver to silence this warning.\n",
      "  FutureWarning)\n",
      "C:\\Users\\bishw\\Anaconda3\\lib\\site-packages\\sklearn\\linear_model\\logistic.py:432: FutureWarning: Default solver will be changed to 'lbfgs' in 0.22. Specify a solver to silence this warning.\n",
      "  FutureWarning)\n",
      "C:\\Users\\bishw\\Anaconda3\\lib\\site-packages\\sklearn\\linear_model\\logistic.py:432: FutureWarning: Default solver will be changed to 'lbfgs' in 0.22. Specify a solver to silence this warning.\n",
      "  FutureWarning)\n",
      "C:\\Users\\bishw\\Anaconda3\\lib\\site-packages\\sklearn\\linear_model\\logistic.py:432: FutureWarning: Default solver will be changed to 'lbfgs' in 0.22. Specify a solver to silence this warning.\n",
      "  FutureWarning)\n",
      "C:\\Users\\bishw\\Anaconda3\\lib\\site-packages\\sklearn\\linear_model\\logistic.py:432: FutureWarning: Default solver will be changed to 'lbfgs' in 0.22. Specify a solver to silence this warning.\n",
      "  FutureWarning)\n",
      "C:\\Users\\bishw\\Anaconda3\\lib\\site-packages\\sklearn\\linear_model\\logistic.py:432: FutureWarning: Default solver will be changed to 'lbfgs' in 0.22. Specify a solver to silence this warning.\n",
      "  FutureWarning)\n",
      "C:\\Users\\bishw\\Anaconda3\\lib\\site-packages\\sklearn\\linear_model\\logistic.py:432: FutureWarning: Default solver will be changed to 'lbfgs' in 0.22. Specify a solver to silence this warning.\n",
      "  FutureWarning)\n",
      "C:\\Users\\bishw\\Anaconda3\\lib\\site-packages\\sklearn\\linear_model\\logistic.py:432: FutureWarning: Default solver will be changed to 'lbfgs' in 0.22. Specify a solver to silence this warning.\n",
      "  FutureWarning)\n",
      "C:\\Users\\bishw\\Anaconda3\\lib\\site-packages\\sklearn\\linear_model\\logistic.py:432: FutureWarning: Default solver will be changed to 'lbfgs' in 0.22. Specify a solver to silence this warning.\n",
      "  FutureWarning)\n",
      "C:\\Users\\bishw\\Anaconda3\\lib\\site-packages\\sklearn\\linear_model\\logistic.py:432: FutureWarning: Default solver will be changed to 'lbfgs' in 0.22. Specify a solver to silence this warning.\n",
      "  FutureWarning)\n",
      "C:\\Users\\bishw\\Anaconda3\\lib\\site-packages\\sklearn\\linear_model\\logistic.py:432: FutureWarning: Default solver will be changed to 'lbfgs' in 0.22. Specify a solver to silence this warning.\n",
      "  FutureWarning)\n",
      "C:\\Users\\bishw\\Anaconda3\\lib\\site-packages\\sklearn\\linear_model\\logistic.py:432: FutureWarning: Default solver will be changed to 'lbfgs' in 0.22. Specify a solver to silence this warning.\n",
      "  FutureWarning)\n",
      "C:\\Users\\bishw\\Anaconda3\\lib\\site-packages\\sklearn\\linear_model\\logistic.py:432: FutureWarning: Default solver will be changed to 'lbfgs' in 0.22. Specify a solver to silence this warning.\n",
      "  FutureWarning)\n",
      "C:\\Users\\bishw\\Anaconda3\\lib\\site-packages\\sklearn\\linear_model\\logistic.py:432: FutureWarning: Default solver will be changed to 'lbfgs' in 0.22. Specify a solver to silence this warning.\n",
      "  FutureWarning)\n",
      "C:\\Users\\bishw\\Anaconda3\\lib\\site-packages\\sklearn\\linear_model\\logistic.py:432: FutureWarning: Default solver will be changed to 'lbfgs' in 0.22. Specify a solver to silence this warning.\n",
      "  FutureWarning)\n",
      "C:\\Users\\bishw\\Anaconda3\\lib\\site-packages\\sklearn\\linear_model\\logistic.py:432: FutureWarning: Default solver will be changed to 'lbfgs' in 0.22. Specify a solver to silence this warning.\n",
      "  FutureWarning)\n",
      "C:\\Users\\bishw\\Anaconda3\\lib\\site-packages\\sklearn\\linear_model\\logistic.py:432: FutureWarning: Default solver will be changed to 'lbfgs' in 0.22. Specify a solver to silence this warning.\n",
      "  FutureWarning)\n",
      "C:\\Users\\bishw\\Anaconda3\\lib\\site-packages\\sklearn\\linear_model\\logistic.py:432: FutureWarning: Default solver will be changed to 'lbfgs' in 0.22. Specify a solver to silence this warning.\n",
      "  FutureWarning)\n",
      "C:\\Users\\bishw\\Anaconda3\\lib\\site-packages\\sklearn\\linear_model\\logistic.py:432: FutureWarning: Default solver will be changed to 'lbfgs' in 0.22. Specify a solver to silence this warning.\n",
      "  FutureWarning)\n",
      "C:\\Users\\bishw\\Anaconda3\\lib\\site-packages\\sklearn\\linear_model\\logistic.py:432: FutureWarning: Default solver will be changed to 'lbfgs' in 0.22. Specify a solver to silence this warning.\n",
      "  FutureWarning)\n",
      "C:\\Users\\bishw\\Anaconda3\\lib\\site-packages\\sklearn\\linear_model\\logistic.py:432: FutureWarning: Default solver will be changed to 'lbfgs' in 0.22. Specify a solver to silence this warning.\n",
      "  FutureWarning)\n",
      "C:\\Users\\bishw\\Anaconda3\\lib\\site-packages\\sklearn\\linear_model\\logistic.py:432: FutureWarning: Default solver will be changed to 'lbfgs' in 0.22. Specify a solver to silence this warning.\n",
      "  FutureWarning)\n",
      "C:\\Users\\bishw\\Anaconda3\\lib\\site-packages\\sklearn\\linear_model\\logistic.py:432: FutureWarning: Default solver will be changed to 'lbfgs' in 0.22. Specify a solver to silence this warning.\n",
      "  FutureWarning)\n",
      "C:\\Users\\bishw\\Anaconda3\\lib\\site-packages\\sklearn\\linear_model\\logistic.py:432: FutureWarning: Default solver will be changed to 'lbfgs' in 0.22. Specify a solver to silence this warning.\n",
      "  FutureWarning)\n",
      "C:\\Users\\bishw\\Anaconda3\\lib\\site-packages\\sklearn\\linear_model\\logistic.py:432: FutureWarning: Default solver will be changed to 'lbfgs' in 0.22. Specify a solver to silence this warning.\n",
      "  FutureWarning)\n",
      "C:\\Users\\bishw\\Anaconda3\\lib\\site-packages\\sklearn\\linear_model\\logistic.py:432: FutureWarning: Default solver will be changed to 'lbfgs' in 0.22. Specify a solver to silence this warning.\n",
      "  FutureWarning)\n",
      "C:\\Users\\bishw\\Anaconda3\\lib\\site-packages\\sklearn\\linear_model\\logistic.py:432: FutureWarning: Default solver will be changed to 'lbfgs' in 0.22. Specify a solver to silence this warning.\n",
      "  FutureWarning)\n",
      "C:\\Users\\bishw\\Anaconda3\\lib\\site-packages\\sklearn\\linear_model\\logistic.py:432: FutureWarning: Default solver will be changed to 'lbfgs' in 0.22. Specify a solver to silence this warning.\n",
      "  FutureWarning)\n",
      "C:\\Users\\bishw\\Anaconda3\\lib\\site-packages\\sklearn\\linear_model\\logistic.py:432: FutureWarning: Default solver will be changed to 'lbfgs' in 0.22. Specify a solver to silence this warning.\n",
      "  FutureWarning)\n",
      "C:\\Users\\bishw\\Anaconda3\\lib\\site-packages\\sklearn\\linear_model\\logistic.py:432: FutureWarning: Default solver will be changed to 'lbfgs' in 0.22. Specify a solver to silence this warning.\n",
      "  FutureWarning)\n",
      "C:\\Users\\bishw\\Anaconda3\\lib\\site-packages\\sklearn\\linear_model\\logistic.py:432: FutureWarning: Default solver will be changed to 'lbfgs' in 0.22. Specify a solver to silence this warning.\n",
      "  FutureWarning)\n",
      "C:\\Users\\bishw\\Anaconda3\\lib\\site-packages\\sklearn\\linear_model\\logistic.py:432: FutureWarning: Default solver will be changed to 'lbfgs' in 0.22. Specify a solver to silence this warning.\n",
      "  FutureWarning)\n",
      "C:\\Users\\bishw\\Anaconda3\\lib\\site-packages\\sklearn\\linear_model\\logistic.py:432: FutureWarning: Default solver will be changed to 'lbfgs' in 0.22. Specify a solver to silence this warning.\n",
      "  FutureWarning)\n",
      "C:\\Users\\bishw\\Anaconda3\\lib\\site-packages\\sklearn\\linear_model\\logistic.py:432: FutureWarning: Default solver will be changed to 'lbfgs' in 0.22. Specify a solver to silence this warning.\n",
      "  FutureWarning)\n",
      "C:\\Users\\bishw\\Anaconda3\\lib\\site-packages\\sklearn\\linear_model\\logistic.py:432: FutureWarning: Default solver will be changed to 'lbfgs' in 0.22. Specify a solver to silence this warning.\n",
      "  FutureWarning)\n"
     ]
    },
    {
     "name": "stderr",
     "output_type": "stream",
     "text": [
      "C:\\Users\\bishw\\Anaconda3\\lib\\site-packages\\sklearn\\linear_model\\logistic.py:432: FutureWarning: Default solver will be changed to 'lbfgs' in 0.22. Specify a solver to silence this warning.\n",
      "  FutureWarning)\n",
      "C:\\Users\\bishw\\Anaconda3\\lib\\site-packages\\sklearn\\linear_model\\logistic.py:432: FutureWarning: Default solver will be changed to 'lbfgs' in 0.22. Specify a solver to silence this warning.\n",
      "  FutureWarning)\n",
      "C:\\Users\\bishw\\Anaconda3\\lib\\site-packages\\sklearn\\linear_model\\logistic.py:432: FutureWarning: Default solver will be changed to 'lbfgs' in 0.22. Specify a solver to silence this warning.\n",
      "  FutureWarning)\n",
      "C:\\Users\\bishw\\Anaconda3\\lib\\site-packages\\sklearn\\linear_model\\logistic.py:432: FutureWarning: Default solver will be changed to 'lbfgs' in 0.22. Specify a solver to silence this warning.\n",
      "  FutureWarning)\n",
      "C:\\Users\\bishw\\Anaconda3\\lib\\site-packages\\sklearn\\linear_model\\logistic.py:432: FutureWarning: Default solver will be changed to 'lbfgs' in 0.22. Specify a solver to silence this warning.\n",
      "  FutureWarning)\n",
      "C:\\Users\\bishw\\Anaconda3\\lib\\site-packages\\sklearn\\linear_model\\logistic.py:432: FutureWarning: Default solver will be changed to 'lbfgs' in 0.22. Specify a solver to silence this warning.\n",
      "  FutureWarning)\n",
      "C:\\Users\\bishw\\Anaconda3\\lib\\site-packages\\sklearn\\linear_model\\logistic.py:432: FutureWarning: Default solver will be changed to 'lbfgs' in 0.22. Specify a solver to silence this warning.\n",
      "  FutureWarning)\n",
      "C:\\Users\\bishw\\Anaconda3\\lib\\site-packages\\sklearn\\linear_model\\logistic.py:432: FutureWarning: Default solver will be changed to 'lbfgs' in 0.22. Specify a solver to silence this warning.\n",
      "  FutureWarning)\n",
      "C:\\Users\\bishw\\Anaconda3\\lib\\site-packages\\sklearn\\linear_model\\logistic.py:432: FutureWarning: Default solver will be changed to 'lbfgs' in 0.22. Specify a solver to silence this warning.\n",
      "  FutureWarning)\n",
      "C:\\Users\\bishw\\Anaconda3\\lib\\site-packages\\sklearn\\linear_model\\logistic.py:432: FutureWarning: Default solver will be changed to 'lbfgs' in 0.22. Specify a solver to silence this warning.\n",
      "  FutureWarning)\n",
      "C:\\Users\\bishw\\Anaconda3\\lib\\site-packages\\sklearn\\linear_model\\logistic.py:432: FutureWarning: Default solver will be changed to 'lbfgs' in 0.22. Specify a solver to silence this warning.\n",
      "  FutureWarning)\n",
      "C:\\Users\\bishw\\Anaconda3\\lib\\site-packages\\sklearn\\linear_model\\logistic.py:432: FutureWarning: Default solver will be changed to 'lbfgs' in 0.22. Specify a solver to silence this warning.\n",
      "  FutureWarning)\n",
      "C:\\Users\\bishw\\Anaconda3\\lib\\site-packages\\sklearn\\linear_model\\logistic.py:432: FutureWarning: Default solver will be changed to 'lbfgs' in 0.22. Specify a solver to silence this warning.\n",
      "  FutureWarning)\n",
      "C:\\Users\\bishw\\Anaconda3\\lib\\site-packages\\sklearn\\linear_model\\logistic.py:432: FutureWarning: Default solver will be changed to 'lbfgs' in 0.22. Specify a solver to silence this warning.\n",
      "  FutureWarning)\n",
      "C:\\Users\\bishw\\Anaconda3\\lib\\site-packages\\sklearn\\linear_model\\logistic.py:432: FutureWarning: Default solver will be changed to 'lbfgs' in 0.22. Specify a solver to silence this warning.\n",
      "  FutureWarning)\n",
      "C:\\Users\\bishw\\Anaconda3\\lib\\site-packages\\sklearn\\linear_model\\logistic.py:432: FutureWarning: Default solver will be changed to 'lbfgs' in 0.22. Specify a solver to silence this warning.\n",
      "  FutureWarning)\n",
      "C:\\Users\\bishw\\Anaconda3\\lib\\site-packages\\sklearn\\linear_model\\logistic.py:432: FutureWarning: Default solver will be changed to 'lbfgs' in 0.22. Specify a solver to silence this warning.\n",
      "  FutureWarning)\n",
      "C:\\Users\\bishw\\Anaconda3\\lib\\site-packages\\sklearn\\linear_model\\logistic.py:432: FutureWarning: Default solver will be changed to 'lbfgs' in 0.22. Specify a solver to silence this warning.\n",
      "  FutureWarning)\n",
      "C:\\Users\\bishw\\Anaconda3\\lib\\site-packages\\sklearn\\linear_model\\logistic.py:432: FutureWarning: Default solver will be changed to 'lbfgs' in 0.22. Specify a solver to silence this warning.\n",
      "  FutureWarning)\n",
      "C:\\Users\\bishw\\Anaconda3\\lib\\site-packages\\sklearn\\linear_model\\logistic.py:432: FutureWarning: Default solver will be changed to 'lbfgs' in 0.22. Specify a solver to silence this warning.\n",
      "  FutureWarning)\n",
      "C:\\Users\\bishw\\Anaconda3\\lib\\site-packages\\sklearn\\linear_model\\logistic.py:432: FutureWarning: Default solver will be changed to 'lbfgs' in 0.22. Specify a solver to silence this warning.\n",
      "  FutureWarning)\n"
     ]
    },
    {
     "name": "stdout",
     "output_type": "stream",
     "text": [
      "[False  True False  True False False  True  True  True  True False  True\n",
      " False False False False  True  True False False  True False  True  True\n",
      " False False False  True False False  True False False False  True  True\n",
      " False False False  True  True  True False False False False False False\n",
      " False False False False False False False False False False False False\n",
      " False False False False False False False False False False False False\n",
      " False False False False False False  True False]\n",
      "[17  1 10  1  6  3  1  1  1  1  9  1 13 18 25 38  1  1 34 20  1 14  1  1\n",
      " 16 12 23  1 51  5  1  4 26  7  1  1 15  2 11  1  1  1 19 46 24 22 21 35\n",
      " 31 45 27 29 32 28 37 39 36 33 40 47 30 44 42 43 48 49 53 55 56 50 61 59\n",
      " 58 60 52 57 54  8  1 41]\n"
     ]
    }
   ],
   "source": [
    "rfe = RFE(glm, 20)\n",
    "rfe = rfe.fit(X, y.values.ravel())\n",
    "print(rfe.support_)\n",
    "print(rfe.ranking_)"
   ]
  },
  {
   "cell_type": "code",
   "execution_count": 94,
   "metadata": {},
   "outputs": [],
   "source": [
    "from sklearn.feature_selection import RFE"
   ]
  },
  {
   "cell_type": "code",
   "execution_count": 97,
   "metadata": {},
   "outputs": [
    {
     "name": "stdout",
     "output_type": "stream",
     "text": [
      "Index(['euribor3m', 'emp_var_rate', 'poutcome_nonexistent', 'poutcome_success',\n",
      "       'contact_telephone', 'previous_1', 'previous_3', 'job_blue-collar',\n",
      "       'job_entrepreneur', 'job_retired', 'job_services', 'job_student',\n",
      "       'default_unknown', 'education_basic.9y', 'education_university.degree',\n",
      "       'education_unknown', 'campaign_5', 'campaign_6', 'campaign_7',\n",
      "       'marital_single'],\n",
      "      dtype='object')\n"
     ]
    }
   ],
   "source": [
    "temp = pd.Series(rfe.support_,index = X.columns)\n",
    "selected_features_rfe = temp[temp==True].index\n",
    "print(selected_features_rfe)"
   ]
  },
  {
   "cell_type": "code",
   "execution_count": null,
   "metadata": {},
   "outputs": [],
   "source": []
  }
 ],
 "metadata": {
  "kernelspec": {
   "display_name": "Python 3",
   "language": "python",
   "name": "python3"
  },
  "language_info": {
   "codemirror_mode": {
    "name": "ipython",
    "version": 3
   },
   "file_extension": ".py",
   "mimetype": "text/x-python",
   "name": "python",
   "nbconvert_exporter": "python",
   "pygments_lexer": "ipython3",
   "version": "3.7.4"
  }
 },
 "nbformat": 4,
 "nbformat_minor": 2
}
